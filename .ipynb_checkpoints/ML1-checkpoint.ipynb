{
 "cells": [
  {
   "cell_type": "markdown",
   "id": "092cdaa5-735e-4359-87cb-91d426e9d6a6",
   "metadata": {},
   "source": [
    "## Machine Learning"
   ]
  },
  {
   "cell_type": "markdown",
   "id": "f3387397-9c35-452e-bb9d-63dacf2765e4",
   "metadata": {},
   "source": [
    "#### 1.Data collection\n",
    "#### 2.eda\n",
    "#### 3.preprocessing or fe\n",
    "#### 4.model\n",
    "#### 5.evalution"
   ]
  },
  {
   "cell_type": "markdown",
   "id": "47644f1b-82a9-46a4-9366-64ff9b4dbfb2",
   "metadata": {},
   "source": [
    "## 1.data collection"
   ]
  },
  {
   "cell_type": "code",
   "execution_count": 4,
   "id": "7669826a-c6a7-4ad8-ada3-79393d7a6613",
   "metadata": {},
   "outputs": [],
   "source": [
    "import pandas as pd \n",
    "df= pd.read_csv(\"placement.csv\")\n"
   ]
  },
  {
   "cell_type": "markdown",
   "id": "8a5c140e-cbd0-49ac-aaad-04da4dbb0ebb",
   "metadata": {},
   "source": [
    "## 2.eda"
   ]
  },
  {
   "cell_type": "code",
   "execution_count": 6,
   "id": "0dde6924-3155-4e78-b5e4-8a1829ef835e",
   "metadata": {},
   "outputs": [
    {
     "data": {
      "text/html": [
       "<div>\n",
       "<style scoped>\n",
       "    .dataframe tbody tr th:only-of-type {\n",
       "        vertical-align: middle;\n",
       "    }\n",
       "\n",
       "    .dataframe tbody tr th {\n",
       "        vertical-align: top;\n",
       "    }\n",
       "\n",
       "    .dataframe thead th {\n",
       "        text-align: right;\n",
       "    }\n",
       "</style>\n",
       "<table border=\"1\" class=\"dataframe\">\n",
       "  <thead>\n",
       "    <tr style=\"text-align: right;\">\n",
       "      <th></th>\n",
       "      <th>cgpa</th>\n",
       "      <th>package</th>\n",
       "    </tr>\n",
       "  </thead>\n",
       "  <tbody>\n",
       "    <tr>\n",
       "      <th>0</th>\n",
       "      <td>6.89</td>\n",
       "      <td>3.26</td>\n",
       "    </tr>\n",
       "    <tr>\n",
       "      <th>1</th>\n",
       "      <td>5.12</td>\n",
       "      <td>1.98</td>\n",
       "    </tr>\n",
       "    <tr>\n",
       "      <th>2</th>\n",
       "      <td>7.82</td>\n",
       "      <td>3.25</td>\n",
       "    </tr>\n",
       "    <tr>\n",
       "      <th>3</th>\n",
       "      <td>7.42</td>\n",
       "      <td>3.67</td>\n",
       "    </tr>\n",
       "    <tr>\n",
       "      <th>4</th>\n",
       "      <td>6.94</td>\n",
       "      <td>3.57</td>\n",
       "    </tr>\n",
       "  </tbody>\n",
       "</table>\n",
       "</div>"
      ],
      "text/plain": [
       "   cgpa  package\n",
       "0  6.89     3.26\n",
       "1  5.12     1.98\n",
       "2  7.82     3.25\n",
       "3  7.42     3.67\n",
       "4  6.94     3.57"
      ]
     },
     "execution_count": 6,
     "metadata": {},
     "output_type": "execute_result"
    }
   ],
   "source": [
    "df.head()"
   ]
  },
  {
   "cell_type": "code",
   "execution_count": 7,
   "id": "f707ff77-ed96-4cba-a488-ca5a6fe7c4fb",
   "metadata": {},
   "outputs": [
    {
     "data": {
      "text/plain": [
       "Text(0, 0.5, 'package')"
      ]
     },
     "execution_count": 7,
     "metadata": {},
     "output_type": "execute_result"
    },
    {
     "data": {
      "image/png": "[encoded data removed]",
      "text/plain": [
       "<Figure size 640x480 with 1 Axes>"
      ]
     },
     "metadata": {},
     "output_type": "display_data"
    }
   ],
   "source": [
    "import matplotlib.pyplot as plt\n",
    "plt.scatter(df[\"cgpa\"],df[\"package\"])\n",
    "plt.xlabel(\"CGPA\")\n",
    "plt.ylabel(\"package\")"
   ]
  },
  {
   "cell_type": "markdown",
   "id": "d2d698c5-8710-444b-8dff-861565cd1141",
   "metadata": {},
   "source": [
    "## 3.preprocessing or fe"
   ]
  },
  {
   "cell_type": "markdown",
   "id": "213a6400-af99-4986-b902-5249baaa8b77",
   "metadata": {},
   "source": [
    "sagrigate fearures between independent and dependent "
   ]
  },
  {
   "cell_type": "code",
   "execution_count": 10,
   "id": "8ba9035f-6009-4e24-b09d-a64671e3eec1",
   "metadata": {},
   "outputs": [],
   "source": [
    "x=df.iloc[:,0:1]"
   ]
  },
  {
   "cell_type": "code",
   "execution_count": 11,
   "id": "0489111e-d6d9-4e41-9aa2-f014c9bbc019",
   "metadata": {},
   "outputs": [],
   "source": [
    "y=df.iloc[:,-1]"
   ]
  },
  {
   "cell_type": "code",
   "execution_count": 12,
   "id": "f2febac8-6078-4fa7-bcba-25e806f5aab5",
   "metadata": {},
   "outputs": [
    {
     "data": {
      "text/plain": [
       "(200, 2)"
      ]
     },
     "execution_count": 12,
     "metadata": {},
     "output_type": "execute_result"
    }
   ],
   "source": [
    "df.shape"
   ]
  },
  {
   "cell_type": "code",
   "execution_count": 13,
   "id": "c4b89aa5-c473-49c5-9fbc-5f2eb8fdfff7",
   "metadata": {},
   "outputs": [],
   "source": [
    "from sklearn.model_selection import train_test_split"
   ]
  },
  {
   "cell_type": "markdown",
   "id": "11361903-01ad-4bb0-a38c-98044fff5ea2",
   "metadata": {},
   "source": [
    "## Random sampaling"
   ]
  },
  {
   "cell_type": "code",
   "execution_count": 15,
   "id": "0d033d3f-2a25-4900-8201-cd61f25edffa",
   "metadata": {},
   "outputs": [],
   "source": [
    "random_state=2947"
   ]
  },
  {
   "cell_type": "code",
   "execution_count": 16,
   "id": "4f2f67ad-e48e-4dc6-869b-0f2e2baec7b6",
   "metadata": {},
   "outputs": [],
   "source": [
    "x_train,x_test,y_train,y_test=train_test_split(x,y,test_size=0.15,random_state=2947)"
   ]
  },
  {
   "cell_type": "code",
   "execution_count": 17,
   "id": "9f158869-c8c1-455c-ab7e-8174eb70df53",
   "metadata": {},
   "outputs": [
    {
     "data": {
      "text/html": [
       "<div>\n",
       "<style scoped>\n",
       "    .dataframe tbody tr th:only-of-type {\n",
       "        vertical-align: middle;\n",
       "    }\n",
       "\n",
       "    .dataframe tbody tr th {\n",
       "        vertical-align: top;\n",
       "    }\n",
       "\n",
       "    .dataframe thead th {\n",
       "        text-align: right;\n",
       "    }\n",
       "</style>\n",
       "<table border=\"1\" class=\"dataframe\">\n",
       "  <thead>\n",
       "    <tr style=\"text-align: right;\">\n",
       "      <th></th>\n",
       "      <th>cgpa</th>\n",
       "    </tr>\n",
       "  </thead>\n",
       "  <tbody>\n",
       "    <tr>\n",
       "      <th>163</th>\n",
       "      <td>8.93</td>\n",
       "    </tr>\n",
       "    <tr>\n",
       "      <th>105</th>\n",
       "      <td>6.66</td>\n",
       "    </tr>\n",
       "    <tr>\n",
       "      <th>43</th>\n",
       "      <td>7.66</td>\n",
       "    </tr>\n",
       "    <tr>\n",
       "      <th>9</th>\n",
       "      <td>8.31</td>\n",
       "    </tr>\n",
       "    <tr>\n",
       "      <th>77</th>\n",
       "      <td>8.99</td>\n",
       "    </tr>\n",
       "    <tr>\n",
       "      <th>...</th>\n",
       "      <td>...</td>\n",
       "    </tr>\n",
       "    <tr>\n",
       "      <th>34</th>\n",
       "      <td>7.34</td>\n",
       "    </tr>\n",
       "    <tr>\n",
       "      <th>107</th>\n",
       "      <td>6.33</td>\n",
       "    </tr>\n",
       "    <tr>\n",
       "      <th>139</th>\n",
       "      <td>7.19</td>\n",
       "    </tr>\n",
       "    <tr>\n",
       "      <th>168</th>\n",
       "      <td>8.65</td>\n",
       "    </tr>\n",
       "    <tr>\n",
       "      <th>69</th>\n",
       "      <td>7.30</td>\n",
       "    </tr>\n",
       "  </tbody>\n",
       "</table>\n",
       "<p>170 rows × 1 columns</p>\n",
       "</div>"
      ],
      "text/plain": [
       "     cgpa\n",
       "163  8.93\n",
       "105  6.66\n",
       "43   7.66\n",
       "9    8.31\n",
       "77   8.99\n",
       "..    ...\n",
       "34   7.34\n",
       "107  6.33\n",
       "139  7.19\n",
       "168  8.65\n",
       "69   7.30\n",
       "\n",
       "[170 rows x 1 columns]"
      ]
     },
     "execution_count": 17,
     "metadata": {},
     "output_type": "execute_result"
    }
   ],
   "source": [
    "x_train"
   ]
  },
  {
   "cell_type": "code",
   "execution_count": 18,
   "id": "0477b1f5-0faf-4a5c-8202-ce30e39de059",
   "metadata": {},
   "outputs": [
    {
     "data": {
      "text/plain": [
       "(170, 1)"
      ]
     },
     "execution_count": 18,
     "metadata": {},
     "output_type": "execute_result"
    }
   ],
   "source": [
    "x_train.shape"
   ]
  },
  {
   "cell_type": "code",
   "execution_count": 19,
   "id": "cd52c99c-c411-407a-b4d9-89d5afbbe5ac",
   "metadata": {},
   "outputs": [
    {
     "data": {
      "text/html": [
       "<div>\n",
       "<style scoped>\n",
       "    .dataframe tbody tr th:only-of-type {\n",
       "        vertical-align: middle;\n",
       "    }\n",
       "\n",
       "    .dataframe tbody tr th {\n",
       "        vertical-align: top;\n",
       "    }\n",
       "\n",
       "    .dataframe thead th {\n",
       "        text-align: right;\n",
       "    }\n",
       "</style>\n",
       "<table border=\"1\" class=\"dataframe\">\n",
       "  <thead>\n",
       "    <tr style=\"text-align: right;\">\n",
       "      <th></th>\n",
       "      <th>cgpa</th>\n",
       "    </tr>\n",
       "  </thead>\n",
       "  <tbody>\n",
       "    <tr>\n",
       "      <th>193</th>\n",
       "      <td>4.57</td>\n",
       "    </tr>\n",
       "    <tr>\n",
       "      <th>87</th>\n",
       "      <td>8.09</td>\n",
       "    </tr>\n",
       "    <tr>\n",
       "      <th>136</th>\n",
       "      <td>5.64</td>\n",
       "    </tr>\n",
       "    <tr>\n",
       "      <th>153</th>\n",
       "      <td>7.94</td>\n",
       "    </tr>\n",
       "    <tr>\n",
       "      <th>22</th>\n",
       "      <td>6.14</td>\n",
       "    </tr>\n",
       "    <tr>\n",
       "      <th>121</th>\n",
       "      <td>6.50</td>\n",
       "    </tr>\n",
       "    <tr>\n",
       "      <th>101</th>\n",
       "      <td>6.71</td>\n",
       "    </tr>\n",
       "    <tr>\n",
       "      <th>71</th>\n",
       "      <td>7.47</td>\n",
       "    </tr>\n",
       "    <tr>\n",
       "      <th>180</th>\n",
       "      <td>6.19</td>\n",
       "    </tr>\n",
       "    <tr>\n",
       "      <th>97</th>\n",
       "      <td>5.98</td>\n",
       "    </tr>\n",
       "    <tr>\n",
       "      <th>60</th>\n",
       "      <td>5.61</td>\n",
       "    </tr>\n",
       "    <tr>\n",
       "      <th>99</th>\n",
       "      <td>6.61</td>\n",
       "    </tr>\n",
       "    <tr>\n",
       "      <th>196</th>\n",
       "      <td>5.89</td>\n",
       "    </tr>\n",
       "    <tr>\n",
       "      <th>166</th>\n",
       "      <td>8.60</td>\n",
       "    </tr>\n",
       "    <tr>\n",
       "      <th>21</th>\n",
       "      <td>6.85</td>\n",
       "    </tr>\n",
       "    <tr>\n",
       "      <th>169</th>\n",
       "      <td>9.31</td>\n",
       "    </tr>\n",
       "    <tr>\n",
       "      <th>164</th>\n",
       "      <td>9.06</td>\n",
       "    </tr>\n",
       "    <tr>\n",
       "      <th>155</th>\n",
       "      <td>6.98</td>\n",
       "    </tr>\n",
       "    <tr>\n",
       "      <th>76</th>\n",
       "      <td>6.94</td>\n",
       "    </tr>\n",
       "    <tr>\n",
       "      <th>20</th>\n",
       "      <td>7.28</td>\n",
       "    </tr>\n",
       "    <tr>\n",
       "      <th>122</th>\n",
       "      <td>5.12</td>\n",
       "    </tr>\n",
       "    <tr>\n",
       "      <th>145</th>\n",
       "      <td>5.84</td>\n",
       "    </tr>\n",
       "    <tr>\n",
       "      <th>68</th>\n",
       "      <td>7.56</td>\n",
       "    </tr>\n",
       "    <tr>\n",
       "      <th>15</th>\n",
       "      <td>7.25</td>\n",
       "    </tr>\n",
       "    <tr>\n",
       "      <th>40</th>\n",
       "      <td>9.38</td>\n",
       "    </tr>\n",
       "    <tr>\n",
       "      <th>23</th>\n",
       "      <td>6.19</td>\n",
       "    </tr>\n",
       "    <tr>\n",
       "      <th>197</th>\n",
       "      <td>7.21</td>\n",
       "    </tr>\n",
       "    <tr>\n",
       "      <th>110</th>\n",
       "      <td>8.18</td>\n",
       "    </tr>\n",
       "    <tr>\n",
       "      <th>182</th>\n",
       "      <td>5.88</td>\n",
       "    </tr>\n",
       "    <tr>\n",
       "      <th>123</th>\n",
       "      <td>5.10</td>\n",
       "    </tr>\n",
       "  </tbody>\n",
       "</table>\n",
       "</div>"
      ],
      "text/plain": [
       "     cgpa\n",
       "193  4.57\n",
       "87   8.09\n",
       "136  5.64\n",
       "153  7.94\n",
       "22   6.14\n",
       "121  6.50\n",
       "101  6.71\n",
       "71   7.47\n",
       "180  6.19\n",
       "97   5.98\n",
       "60   5.61\n",
       "99   6.61\n",
       "196  5.89\n",
       "166  8.60\n",
       "21   6.85\n",
       "169  9.31\n",
       "164  9.06\n",
       "155  6.98\n",
       "76   6.94\n",
       "20   7.28\n",
       "122  5.12\n",
       "145  5.84\n",
       "68   7.56\n",
       "15   7.25\n",
       "40   9.38\n",
       "23   6.19\n",
       "197  7.21\n",
       "110  8.18\n",
       "182  5.88\n",
       "123  5.10"
      ]
     },
     "execution_count": 19,
     "metadata": {},
     "output_type": "execute_result"
    }
   ],
   "source": [
    "x_test"
   ]
  },
  {
   "cell_type": "code",
   "execution_count": 20,
   "id": "0252b6ca-0e87-45f7-9028-0fc6463b6b04",
   "metadata": {},
   "outputs": [
    {
     "data": {
      "text/plain": [
       "(30, 1)"
      ]
     },
     "execution_count": 20,
     "metadata": {},
     "output_type": "execute_result"
    }
   ],
   "source": [
    "x_test.shape"
   ]
  },
  {
   "cell_type": "code",
   "execution_count": 21,
   "id": "0b9ed568-d789-4c63-b707-7b7db61d7062",
   "metadata": {},
   "outputs": [
    {
     "data": {
      "text/plain": [
       "(170,)"
      ]
     },
     "execution_count": 21,
     "metadata": {},
     "output_type": "execute_result"
    }
   ],
   "source": [
    "y_train.shape"
   ]
  },
  {
   "cell_type": "markdown",
   "id": "d05d6cc2-bbd9-47e4-adba-950d6a2742bc",
   "metadata": {},
   "source": [
    "### 4.model linear regression"
   ]
  },
  {
   "cell_type": "code",
   "execution_count": 23,
   "id": "a0ef491d-471a-4d40-91e5-b6f72281136f",
   "metadata": {},
   "outputs": [],
   "source": [
    "from sklearn.linear_model import LinearRegression"
   ]
  },
  {
   "cell_type": "code",
   "execution_count": 24,
   "id": "a5480310-47bf-4957-8ea5-5a0b08023f27",
   "metadata": {},
   "outputs": [],
   "source": [
    "model=LinearRegression()"
   ]
  },
  {
   "cell_type": "code",
   "execution_count": 25,
   "id": "6c08bb43-a1ec-4b89-8b47-403ce2a6b2cd",
   "metadata": {},
   "outputs": [
    {
     "data": {
      "text/html": [
       "<style>#sk-container-id-1 {color: black;background-color: white;}#sk-container-id-1 pre{padding: 0;}#sk-container-id-1 div.sk-toggleable {background-color: white;}#sk-container-id-1 label.sk-toggleable__label {cursor: pointer;display: block;width: 100%;margin-bottom: 0;padding: 0.3em;box-sizing: border-box;text-align: center;}#sk-container-id-1 label.sk-toggleable__label-arrow:before {content: \"▸\";float: left;margin-right: 0.25em;color: #696969;}#sk-container-id-1 label.sk-toggleable__label-arrow:hover:before {color: black;}#sk-container-id-1 div.sk-estimator:hover label.sk-toggleable__label-arrow:before {color: black;}#sk-container-id-1 div.sk-toggleable__content {max-height: 0;max-width: 0;overflow: hidden;text-align: left;background-color: #f0f8ff;}#sk-container-id-1 div.sk-toggleable__content pre {margin: 0.2em;color: black;border-radius: 0.25em;background-color: #f0f8ff;}#sk-container-id-1 input.sk-toggleable__control:checked~div.sk-toggleable__content {max-height: 200px;max-width: 100%;overflow: auto;}#sk-container-id-1 input.sk-toggleable__control:checked~label.sk-toggleable__label-arrow:before {content: \"▾\";}#sk-container-id-1 div.sk-estimator input.sk-toggleable__control:checked~label.sk-toggleable__label {background-color: #d4ebff;}#sk-container-id-1 div.sk-label input.sk-toggleable__control:checked~label.sk-toggleable__label {background-color: #d4ebff;}#sk-container-id-1 input.sk-hidden--visually {border: 0;clip: rect(1px 1px 1px 1px);clip: rect(1px, 1px, 1px, 1px);height: 1px;margin: -1px;overflow: hidden;padding: 0;position: absolute;width: 1px;}#sk-container-id-1 div.sk-estimator {font-family: monospace;background-color: #f0f8ff;border: 1px dotted black;border-radius: 0.25em;box-sizing: border-box;margin-bottom: 0.5em;}#sk-container-id-1 div.sk-estimator:hover {background-color: #d4ebff;}#sk-container-id-1 div.sk-parallel-item::after {content: \"\";width: 100%;border-bottom: 1px solid gray;flex-grow: 1;}#sk-container-id-1 div.sk-label:hover label.sk-toggleable__label {background-color: #d4ebff;}#sk-container-id-1 div.sk-serial::before {content: \"\";position: absolute;border-left: 1px solid gray;box-sizing: border-box;top: 0;bottom: 0;left: 50%;z-index: 0;}#sk-container-id-1 div.sk-serial {display: flex;flex-direction: column;align-items: center;background-color: white;padding-right: 0.2em;padding-left: 0.2em;position: relative;}#sk-container-id-1 div.sk-item {position: relative;z-index: 1;}#sk-container-id-1 div.sk-parallel {display: flex;align-items: stretch;justify-content: center;background-color: white;position: relative;}#sk-container-id-1 div.sk-item::before, #sk-container-id-1 div.sk-parallel-item::before {content: \"\";position: absolute;border-left: 1px solid gray;box-sizing: border-box;top: 0;bottom: 0;left: 50%;z-index: -1;}#sk-container-id-1 div.sk-parallel-item {display: flex;flex-direction: column;z-index: 1;position: relative;background-color: white;}#sk-container-id-1 div.sk-parallel-item:first-child::after {align-self: flex-end;width: 50%;}#sk-container-id-1 div.sk-parallel-item:last-child::after {align-self: flex-start;width: 50%;}#sk-container-id-1 div.sk-parallel-item:only-child::after {width: 0;}#sk-container-id-1 div.sk-dashed-wrapped {border: 1px dashed gray;margin: 0 0.4em 0.5em 0.4em;box-sizing: border-box;padding-bottom: 0.4em;background-color: white;}#sk-container-id-1 div.sk-label label {font-family: monospace;font-weight: bold;display: inline-block;line-height: 1.2em;}#sk-container-id-1 div.sk-label-container {text-align: center;}#sk-container-id-1 div.sk-container {/* jupyter's `normalize.less` sets `[hidden] { display: none; }` but bootstrap.min.css set `[hidden] { display: none !important; }` so we also need the `!important` here to be able to override the default hidden behavior on the sphinx rendered scikit-learn.org. See: https://github.com/scikit-learn/scikit-learn/issues/21755 */display: inline-block !important;position: relative;}#sk-container-id-1 div.sk-text-repr-fallback {display: none;}</style><div id=\"sk-container-id-1\" class=\"sk-top-container\"><div class=\"sk-text-repr-fallback\"><pre>LinearRegression()</pre><b>In a Jupyter environment, please rerun this cell to show the HTML representation or trust the notebook. <br />On GitHub, the HTML representation is unable to render, please try loading this page with nbviewer.org.</b></div><div class=\"sk-container\" hidden><div class=\"sk-item\"><div class=\"sk-estimator sk-toggleable\"><input class=\"sk-toggleable__control sk-hidden--visually\" id=\"sk-estimator-id-1\" type=\"checkbox\" checked><label for=\"sk-estimator-id-1\" class=\"sk-toggleable__label sk-toggleable__label-arrow\">LinearRegression</label><div class=\"sk-toggleable__content\"><pre>LinearRegression()</pre></div></div></div></div></div>"
      ],
      "text/plain": [
       "LinearRegression()"
      ]
     },
     "execution_count": 25,
     "metadata": {},
     "output_type": "execute_result"
    }
   ],
   "source": [
    "model.fit(x_train,y_train)"
   ]
  },
  {
   "cell_type": "code",
   "execution_count": 26,
   "id": "05fe9c57-0464-4c1c-a51e-a9401add4de6",
   "metadata": {},
   "outputs": [
    {
     "data": {
      "text/plain": [
       "0.7646991325950144"
      ]
     },
     "execution_count": 26,
     "metadata": {},
     "output_type": "execute_result"
    }
   ],
   "source": [
    "model.score(x_train,y_train)"
   ]
  },
  {
   "cell_type": "code",
   "execution_count": 27,
   "id": "c1b7b3e6-61c3-4fa6-a8c0-9dc58b37a0a4",
   "metadata": {},
   "outputs": [],
   "source": [
    "y_pred=model.predict(x_test)"
   ]
  },
  {
   "cell_type": "markdown",
   "id": "b39ec635-68e6-4a2c-abbc-5b02219ccfd5",
   "metadata": {},
   "source": [
    "### 5.Evaluation"
   ]
  },
  {
   "cell_type": "code",
   "execution_count": 29,
   "id": "671578aa-5e53-4cb5-9729-21a8cdf0e0c8",
   "metadata": {},
   "outputs": [],
   "source": [
    "from sklearn.metrics import r2_score"
   ]
  },
  {
   "cell_type": "code",
   "execution_count": 30,
   "id": "15ac0a62-7201-48e3-bb58-35b94f277a94",
   "metadata": {},
   "outputs": [
    {
     "data": {
      "text/plain": [
       "0.8332449856387071"
      ]
     },
     "execution_count": 30,
     "metadata": {},
     "output_type": "execute_result"
    }
   ],
   "source": [
    "r2_score(y_test,y_pred)"
   ]
  },
  {
   "cell_type": "markdown",
   "id": "359001f3-ecb6-4a09-ad9f-4b9e76ea6d70",
   "metadata": {},
   "source": [
    "y=mx+c"
   ]
  },
  {
   "cell_type": "code",
   "execution_count": 32,
   "id": "175ee3c7-ad19-4045-bb6c-68baf30f270f",
   "metadata": {},
   "outputs": [
    {
     "data": {
      "text/plain": [
       "array([0.58641789])"
      ]
     },
     "execution_count": 32,
     "metadata": {},
     "output_type": "execute_result"
    }
   ],
   "source": [
    "model.coef_"
   ]
  },
  {
   "cell_type": "code",
   "execution_count": 33,
   "id": "a109cc06-6e7c-4a9d-b0f1-828623ed279f",
   "metadata": {},
   "outputs": [
    {
     "data": {
      "text/plain": [
       "-1.1172218446834439"
      ]
     },
     "execution_count": 33,
     "metadata": {},
     "output_type": "execute_result"
    }
   ],
   "source": [
    "model.intercept_"
   ]
  },
  {
   "cell_type": "code",
   "execution_count": 34,
   "id": "47e48da6-e562-4eb3-9e42-cee2d43a4107",
   "metadata": {},
   "outputs": [],
   "source": [
    "# 0.58 * x + -1.11"
   ]
  },
  {
   "cell_type": "code",
   "execution_count": 35,
   "id": "bec233db-56b3-4124-9221-08db85112c1c",
   "metadata": {},
   "outputs": [
    {
     "data": {
      "text/plain": [
       "1.8595999999999997"
      ]
     },
     "execution_count": 35,
     "metadata": {},
     "output_type": "execute_result"
    }
   ],
   "source": [
    "0.58 * (5.12) -1.11"
   ]
  },
  {
   "cell_type": "code",
   "execution_count": 36,
   "id": "ba541097-32a2-48d2-bb37-a36a0de09f33",
   "metadata": {},
   "outputs": [
    {
     "name": "stderr",
     "output_type": "stream",
     "text": [
      "C:\\Users\\Prachi\\anaconda3\\Lib\\site-packages\\sklearn\\base.py:439: UserWarning: X does not have valid feature names, but LinearRegression was fitted with feature names\n",
      "  warnings.warn(\n"
     ]
    },
    {
     "data": {
      "text/plain": [
       "array([1.88523774])"
      ]
     },
     "execution_count": 36,
     "metadata": {},
     "output_type": "execute_result"
    }
   ],
   "source": [
    "model.predict([[5.12]])"
   ]
  },
  {
   "cell_type": "code",
   "execution_count": 37,
   "id": "e0025347-346d-4bcd-b793-a7c817c63ce2",
   "metadata": {},
   "outputs": [
    {
     "data": {
      "text/plain": [
       "2.8861999999999997"
      ]
     },
     "execution_count": 37,
     "metadata": {},
     "output_type": "execute_result"
    }
   ],
   "source": [
    "0.58 * (6.89)  -1.11\n",
    "#6.89\t3.26"
   ]
  },
  {
   "cell_type": "code",
   "execution_count": 38,
   "id": "b83459f0-c2f1-4a61-aad0-0d6bed5f33ca",
   "metadata": {},
   "outputs": [
    {
     "name": "stderr",
     "output_type": "stream",
     "text": [
      "C:\\Users\\Prachi\\anaconda3\\Lib\\site-packages\\sklearn\\base.py:439: UserWarning: X does not have valid feature names, but LinearRegression was fitted with feature names\n",
      "  warnings.warn(\n"
     ]
    },
    {
     "data": {
      "text/plain": [
       "array([2.9231974])"
      ]
     },
     "execution_count": 38,
     "metadata": {},
     "output_type": "execute_result"
    }
   ],
   "source": [
    "model.predict([[6.89]])"
   ]
  },
  {
   "cell_type": "code",
   "execution_count": 39,
   "id": "e74396b6-bfa5-4e97-b0d6-163660d13db2",
   "metadata": {},
   "outputs": [
    {
     "data": {
      "text/plain": [
       "[<matplotlib.lines.Line2D at 0x22c97bd9a50>]"
      ]
     },
     "execution_count": 39,
     "metadata": {},
     "output_type": "execute_result"
    },
    {
     "data": {
      "image/png": "[encoded data removed]",
      "text/plain": [
       "<Figure size 640x480 with 1 Axes>"
      ]
     },
     "metadata": {},
     "output_type": "display_data"
    }
   ],
   "source": [
    "plt.scatter(df[\"cgpa\"],df[\"package\"])\n",
    "plt.plot(x_train,model.predict(x_train),color=\"red\")"
   ]
  },
  {
   "cell_type": "markdown",
   "id": "942d660e-8fe3-475e-a6ad-204c57bd1ba7",
   "metadata": {},
   "source": [
    "### Multiple Linear Regression"
   ]
  },
  {
   "cell_type": "code",
   "execution_count": 48,
   "id": "e82b6a94-b31b-4498-bd4f-2b57e3be6de4",
   "metadata": {},
   "outputs": [],
   "source": [
    "from sklearn.datasets import make_regression\n",
    "x,y=make_regression(n_samples=150,n_features=2,n_targets=1,noise=40)"
   ]
  },
  {
   "cell_type": "code",
   "execution_count": 52,
   "id": "eca2b478-49be-495a-b180-11a4bc410dc5",
   "metadata": {},
   "outputs": [
    {
     "data": {
      "text/plain": [
       "array([[ 6.82935308e-01, -7.46522156e-01],\n",
       "       [-1.68610995e+00,  5.66076279e-01],\n",
       "       [-7.33913478e-01, -9.16945863e-01],\n",
       "       [-3.71054603e-01, -1.58860858e+00],\n",
       "       [-1.15876118e+00,  5.60637867e-01],\n",
       "       [ 7.28937294e-01,  1.26629786e+00],\n",
       "       [ 5.36480015e-01,  6.78188127e-01],\n",
       "       [ 2.57928746e+00,  1.95321671e+00],\n",
       "       [-1.41221311e-01, -4.49363964e-01],\n",
       "       [-8.49741484e-01, -3.40546195e-01],\n",
       "       [-1.47143676e+00,  4.61588038e-01],\n",
       "       [-8.47180754e-01,  1.08191913e+00],\n",
       "       [-1.35357131e+00, -6.19495702e-01],\n",
       "       [ 4.88727149e-01, -8.49438472e-01],\n",
       "       [-1.53391198e+00, -3.97310011e-01],\n",
       "       [ 1.29241079e-01, -1.00047743e+00],\n",
       "       [-1.42545044e+00, -5.93475152e-01],\n",
       "       [ 8.21624699e-01,  3.74859660e-01],\n",
       "       [-8.20877897e-01, -4.90052022e-01],\n",
       "       [ 2.89148565e+00, -1.06021134e+00],\n",
       "       [ 6.28979931e-01,  9.71518990e-01],\n",
       "       [-4.37703691e-01, -1.09337962e+00],\n",
       "       [ 9.18927311e-02, -9.60946770e-01],\n",
       "       [-2.71909113e-01, -3.44494384e-01],\n",
       "       [ 1.43720719e+00,  8.46882703e-01],\n",
       "       [ 2.40616851e+00, -2.35516689e-02],\n",
       "       [-1.37279025e-01,  7.51751344e-04],\n",
       "       [-6.23638334e-02,  1.06277226e+00],\n",
       "       [-8.38002638e-01, -1.01618239e+00],\n",
       "       [-4.79245683e-02, -7.50034858e-01],\n",
       "       [-8.65382284e-01, -7.78311557e-01],\n",
       "       [ 8.78582376e-02,  7.97908656e-02],\n",
       "       [ 7.43050671e-01, -1.08036633e-01],\n",
       "       [ 8.14974123e-02, -1.03208270e+00],\n",
       "       [-5.68424890e-01,  4.80593991e-01],\n",
       "       [ 2.53936319e-01,  6.51278841e-01],\n",
       "       [ 7.28537670e-01, -1.53880875e-01],\n",
       "       [ 6.90403855e-01,  5.61218668e-01],\n",
       "       [-3.65185801e-01,  8.66807391e-01],\n",
       "       [-1.49154388e+00,  1.41444593e+00],\n",
       "       [ 6.05616430e-01, -1.11055505e+00],\n",
       "       [-5.66415357e-01, -2.42579001e+00],\n",
       "       [ 1.75516359e-01, -1.15674463e+00],\n",
       "       [ 5.54989795e-01,  2.74260359e+00],\n",
       "       [ 6.53206260e-01,  4.28120175e-01],\n",
       "       [ 3.71542625e-01,  2.74266941e-01],\n",
       "       [-7.01340630e-01,  1.53563010e-02],\n",
       "       [ 9.07143074e-01, -1.97261506e+00],\n",
       "       [-1.03069178e-01, -3.17214009e-01],\n",
       "       [-9.76841932e-01, -6.48264040e-01],\n",
       "       [-2.46264884e+00,  1.44322979e+00],\n",
       "       [ 1.02612251e+00,  8.49948729e-01],\n",
       "       [ 6.57224616e-01, -1.20264875e+00],\n",
       "       [-1.89745247e+00,  1.47207582e+00],\n",
       "       [-6.51650493e-01, -6.52983288e-01],\n",
       "       [ 1.82571540e+00, -1.59767184e+00],\n",
       "       [ 1.46788392e+00, -1.53282848e+00],\n",
       "       [-1.31698546e+00, -2.89480522e-01],\n",
       "       [ 9.54596926e-01,  1.26876232e-01],\n",
       "       [ 7.17339867e-01, -6.20960424e-01],\n",
       "       [ 9.50464217e-01,  4.23513474e-01],\n",
       "       [-4.73013193e-01, -9.20483280e-01],\n",
       "       [-4.88055879e-01, -1.27600903e+00],\n",
       "       [-2.04215836e+00, -1.31591729e+00],\n",
       "       [-2.63191052e-01, -1.57087318e+00],\n",
       "       [-4.75983413e-01,  8.31335527e-01],\n",
       "       [ 6.75090379e-01, -1.74525178e-01],\n",
       "       [ 5.96435352e-01, -2.69908833e-03],\n",
       "       [ 8.59620235e-01, -4.78796011e-01],\n",
       "       [ 7.23172676e-01, -1.81393727e+00],\n",
       "       [ 2.47186980e-01, -6.79168177e-01],\n",
       "       [-1.69212428e+00,  7.58164983e-01],\n",
       "       [ 3.01509807e-01,  1.19652776e+00],\n",
       "       [ 9.63010358e-02,  8.58227808e-02],\n",
       "       [ 3.13537546e-01,  6.32337795e-01],\n",
       "       [-1.10223553e+00,  1.01478017e-01],\n",
       "       [-9.26507029e-01,  1.07595315e+00],\n",
       "       [-7.82749121e-01,  1.28456851e+00],\n",
       "       [ 1.02948280e+00,  1.79071932e-01],\n",
       "       [ 8.93582622e-01,  1.34385312e+00],\n",
       "       [-4.13728962e-01,  7.45114589e-01],\n",
       "       [-2.09341239e+00, -4.90407487e-01],\n",
       "       [ 7.82185759e-01,  1.48508217e+00],\n",
       "       [-8.69852611e-02,  6.51060783e-01],\n",
       "       [ 1.07458620e+00, -2.82216308e-01],\n",
       "       [ 2.61439580e-01, -3.84570482e-01],\n",
       "       [ 2.28580388e+00,  4.91308534e-01],\n",
       "       [-3.94820357e-01, -4.61433719e-01],\n",
       "       [ 1.48740978e-01, -5.29807738e-01],\n",
       "       [ 1.01610453e+00, -2.43325086e-01],\n",
       "       [ 6.84312081e-01,  6.24876602e-01],\n",
       "       [-1.05633032e+00, -1.38499982e+00],\n",
       "       [-5.39560323e-01,  7.28358302e-01],\n",
       "       [-9.47608644e-02,  6.34612310e-01],\n",
       "       [-2.75558400e-01,  1.37659486e+00],\n",
       "       [-1.07474899e+00, -5.90840665e-01],\n",
       "       [ 4.28336676e-01, -2.37867100e-01],\n",
       "       [-3.68089269e-01, -5.45197275e-01],\n",
       "       [ 1.39063317e+00, -1.19366750e+00],\n",
       "       [-4.97219580e-01, -1.33112803e+00],\n",
       "       [-1.04223939e+00,  9.91017103e-01],\n",
       "       [-8.09317953e-01,  1.88444658e-01],\n",
       "       [-1.50547242e+00,  1.66141633e-01],\n",
       "       [-1.25323466e+00,  1.70260083e+00],\n",
       "       [ 1.55170728e+00,  1.03102445e+00],\n",
       "       [-5.01133542e-01, -2.13202769e-01],\n",
       "       [ 1.29842806e+00,  1.85644888e+00],\n",
       "       [ 1.73576458e+00, -1.59393664e+00],\n",
       "       [ 9.50623618e-02, -1.31797031e+00],\n",
       "       [ 1.17682357e+00,  1.32558947e-01],\n",
       "       [-3.28740557e-02, -7.87424690e-01],\n",
       "       [-6.64469369e-01, -2.24234061e-01],\n",
       "       [ 8.32723333e-01,  1.17565588e+00],\n",
       "       [ 2.31951090e-01, -1.69398498e+00],\n",
       "       [-9.99205092e-01, -5.34845357e-01],\n",
       "       [-2.64843006e-01,  2.11635239e-01],\n",
       "       [ 7.08056847e-01, -8.09321959e-01],\n",
       "       [-1.50895358e+00,  1.07134555e+00],\n",
       "       [-7.75008174e-01,  5.57881329e-01],\n",
       "       [ 5.12941624e-01, -8.77771509e-01],\n",
       "       [ 4.36751536e-01, -3.50867114e-01],\n",
       "       [-1.78956837e-01, -1.11755308e+00],\n",
       "       [ 6.61787730e-01, -8.81466403e-01],\n",
       "       [-7.12052333e-01, -6.69698142e-01],\n",
       "       [-2.15543482e+00, -6.61419730e-01],\n",
       "       [-1.83318138e-01,  1.35381721e-01],\n",
       "       [ 5.46245390e-01, -1.71839158e-01],\n",
       "       [ 5.79146597e-01, -3.23549654e-01],\n",
       "       [-8.94773597e-01,  1.08660546e+00],\n",
       "       [-6.20321050e-01,  4.43194001e-01],\n",
       "       [-7.12429446e-01, -4.35885804e-01],\n",
       "       [ 2.30965157e-01,  6.02904653e-01],\n",
       "       [ 2.06668881e-01, -9.43142352e-01],\n",
       "       [-8.96006814e-01, -2.10896714e+00],\n",
       "       [ 8.49495849e-01,  2.73831625e-01],\n",
       "       [ 9.39633201e-01,  1.21732285e+00],\n",
       "       [-1.81232343e+00, -6.10657182e-01],\n",
       "       [-1.04739687e+00, -6.57148850e-01],\n",
       "       [ 1.85502754e-01,  1.61223897e-01],\n",
       "       [-2.99361639e-01, -1.33279002e+00],\n",
       "       [-8.92991951e-01, -2.77810906e-01],\n",
       "       [-2.30530065e-01,  4.37395181e-01],\n",
       "       [ 2.67092530e+00,  6.76080913e-01],\n",
       "       [-1.85607544e-02, -1.39469917e+00],\n",
       "       [-5.05066898e-01,  9.62541958e-01],\n",
       "       [ 3.83786272e-01, -1.34799368e-01],\n",
       "       [-1.68761909e+00, -1.21900786e+00],\n",
       "       [-3.89091509e-01,  2.54917760e+00],\n",
       "       [-1.40272759e+00, -4.04949381e-02],\n",
       "       [-7.00175285e-01, -1.04077629e+00]])"
      ]
     },
     "execution_count": 52,
     "metadata": {},
     "output_type": "execute_result"
    }
   ],
   "source": [
    "x"
   ]
  },
  {
   "cell_type": "code",
   "execution_count": 56,
   "id": "ddd48970-1214-4823-9e65-1f09f40d6667",
   "metadata": {},
   "outputs": [
    {
     "data": {
      "text/plain": [
       "array([ -43.93247313,  -93.11325238, -147.88539913,  -98.18189265,\n",
       "        -22.56907445,  169.51715325,  183.01019972,  329.33058665,\n",
       "          7.38449177,    6.87274003,  -64.93999044,   74.74649968,\n",
       "       -113.08038352, -119.26963597, -150.68823607, -108.83220175,\n",
       "       -149.13012764,   19.21963283,  -28.99369187,   60.61527408,\n",
       "        153.25862872, -165.59097651,  -35.35438258,  -90.42519647,\n",
       "        123.36200763,  139.39941574,  -22.08799873,   64.76518541,\n",
       "       -147.54857156,   -5.23977188, -121.73707154,  -20.59548135,\n",
       "         21.61033893, -136.47752981,   17.41277657,   99.75733988,\n",
       "         45.84610783,  141.6253342 ,   59.36854071,   41.08442424,\n",
       "        -62.19476831, -245.75321799, -159.26631607,  292.74201795,\n",
       "         73.05585367,  113.46761168,  -22.74990738, -142.09559044,\n",
       "        -44.02464756,  -74.95264179,   45.81713193,   98.91132912,\n",
       "        -76.80706321,   52.81287394,  -83.84113183,  -60.16641531,\n",
       "        -67.48417904, -114.06695989,   39.69731868,   13.15054821,\n",
       "        125.90460462, -140.60015854, -136.97285045, -255.36007611,\n",
       "       -134.93621491,   74.81649244,   45.17008495,  105.14360263,\n",
       "        109.14227573, -130.11841323,  -21.74704885,  -79.94380656,\n",
       "         69.99830282,  -44.73454956,   86.47693113,  -54.13867859,\n",
       "         -9.98226648,   70.70236011,   89.35988549,  194.30917742,\n",
       "         85.22899605, -138.94740568,  176.94753285,   35.57143644,\n",
       "         29.2573655 ,   28.06459902,  145.23490509, -138.78511318,\n",
       "        -85.40699017,   31.55215722,   83.58662337, -231.81293094,\n",
       "        -12.86537768,   47.19055929,  163.26880818,  -88.60299913,\n",
       "         -8.17208596,  -56.2942733 ,   29.26507238, -176.14467645,\n",
       "         15.90246491,  -57.5936563 ,   -8.04204457,   82.6597083 ,\n",
       "        176.09719415, -119.85772922,  259.783241  ,   -1.83543228,\n",
       "       -133.02896018,   27.79272757,   73.28516926,  -72.08695614,\n",
       "        183.25078236, -127.51632706, -105.52494631,  -27.07504772,\n",
       "         52.23202991,   69.90837873,   23.25683931,  -23.44098025,\n",
       "        -15.84046008, -103.27485735,  -77.43302469, -104.7255985 ,\n",
       "       -241.39246436,  -37.55461162,   25.45372753,   16.72910696,\n",
       "         70.30587344,  -56.84971386,    0.9557907 ,   59.70867501,\n",
       "       -100.42531325, -251.35547616,   86.0300619 ,  164.86550416,\n",
       "       -201.75873036, -138.48045556,   34.61539358, -106.19542013,\n",
       "       -124.84530888,  -12.2314584 ,  268.12862681,  -90.19402904,\n",
       "         26.11492781,   58.92454892, -247.45691434,  220.0535423 ,\n",
       "       -130.27554465,  -63.60150074])"
      ]
     },
     "execution_count": 56,
     "metadata": {},
     "output_type": "execute_result"
    }
   ],
   "source": [
    "y\n"
   ]
  },
  {
   "cell_type": "code",
   "execution_count": 60,
   "id": "f70800cb-d83c-4cc3-90df-a14cf1fc65b8",
   "metadata": {},
   "outputs": [
    {
     "data": {
      "text/plain": [
       "(150, 2)"
      ]
     },
     "execution_count": 60,
     "metadata": {},
     "output_type": "execute_result"
    }
   ],
   "source": [
    "x.shape"
   ]
  },
  {
   "cell_type": "code",
   "execution_count": 64,
   "id": "6e28f367-6ef6-4448-9cbd-d1fe80f627b2",
   "metadata": {},
   "outputs": [
    {
     "data": {
      "text/plain": [
       "(150,)"
      ]
     },
     "execution_count": 64,
     "metadata": {},
     "output_type": "execute_result"
    }
   ],
   "source": [
    "y.shape"
   ]
  },
  {
   "cell_type": "code",
   "execution_count": 70,
   "id": "55cd138f-3ee3-428b-a01c-891bd36ff245",
   "metadata": {},
   "outputs": [],
   "source": [
    "df=pd.DataFrame({\"feature1\":x[:,0],\"feature2\":x[:,1],\"target\":y})"
   ]
  },
  {
   "cell_type": "code",
   "execution_count": 76,
   "id": "218b5cef-2423-44ec-b59c-40e731c1914c",
   "metadata": {},
   "outputs": [
    {
     "data": {
      "text/html": [
       "<div>\n",
       "<style scoped>\n",
       "    .dataframe tbody tr th:only-of-type {\n",
       "        vertical-align: middle;\n",
       "    }\n",
       "\n",
       "    .dataframe tbody tr th {\n",
       "        vertical-align: top;\n",
       "    }\n",
       "\n",
       "    .dataframe thead th {\n",
       "        text-align: right;\n",
       "    }\n",
       "</style>\n",
       "<table border=\"1\" class=\"dataframe\">\n",
       "  <thead>\n",
       "    <tr style=\"text-align: right;\">\n",
       "      <th></th>\n",
       "      <th>feature1</th>\n",
       "      <th>feature2</th>\n",
       "      <th>target</th>\n",
       "    </tr>\n",
       "  </thead>\n",
       "  <tbody>\n",
       "    <tr>\n",
       "      <th>0</th>\n",
       "      <td>0.682935</td>\n",
       "      <td>-0.746522</td>\n",
       "      <td>-43.932473</td>\n",
       "    </tr>\n",
       "    <tr>\n",
       "      <th>1</th>\n",
       "      <td>-1.686110</td>\n",
       "      <td>0.566076</td>\n",
       "      <td>-93.113252</td>\n",
       "    </tr>\n",
       "    <tr>\n",
       "      <th>2</th>\n",
       "      <td>-0.733913</td>\n",
       "      <td>-0.916946</td>\n",
       "      <td>-147.885399</td>\n",
       "    </tr>\n",
       "    <tr>\n",
       "      <th>3</th>\n",
       "      <td>-0.371055</td>\n",
       "      <td>-1.588609</td>\n",
       "      <td>-98.181893</td>\n",
       "    </tr>\n",
       "    <tr>\n",
       "      <th>4</th>\n",
       "      <td>-1.158761</td>\n",
       "      <td>0.560638</td>\n",
       "      <td>-22.569074</td>\n",
       "    </tr>\n",
       "  </tbody>\n",
       "</table>\n",
       "</div>"
      ],
      "text/plain": [
       "   feature1  feature2      target\n",
       "0  0.682935 -0.746522  -43.932473\n",
       "1 -1.686110  0.566076  -93.113252\n",
       "2 -0.733913 -0.916946 -147.885399\n",
       "3 -0.371055 -1.588609  -98.181893\n",
       "4 -1.158761  0.560638  -22.569074"
      ]
     },
     "execution_count": 76,
     "metadata": {},
     "output_type": "execute_result"
    }
   ],
   "source": [
    "df.head()"
   ]
  },
  {
   "cell_type": "code",
   "execution_count": 80,
   "id": "f0c411b0-dae2-4e4b-8813-c9373f067e68",
   "metadata": {},
   "outputs": [
    {
     "data": {
      "text/plain": [
       "(150, 3)"
      ]
     },
     "execution_count": 80,
     "metadata": {},
     "output_type": "execute_result"
    }
   ],
   "source": [
    "df.shape"
   ]
  },
  {
   "cell_type": "markdown",
   "id": "77058c7e-9db2-41bc-8b1a-2a91de252699",
   "metadata": {},
   "source": [
    "y = a+b1x1 + b2x2 ...bnxn"
   ]
  },
  {
   "cell_type": "code",
   "execution_count": 87,
   "id": "725f8b55-b5d4-4bd0-ba30-61097355e83a",
   "metadata": {},
   "outputs": [
    {
     "data": {
      "application/vnd.plotly.v1+json": {
       "config": {
        "plotlyServerURL": "https://plot.ly"
       },
       "data": [
        {
         "hovertemplate": "feature1=%{x}<br>feature2=%{y}<br>target=%{z}<extra></extra>",
         "legendgroup": "",
         "marker": {
          "color": "#636efa",
          "symbol": "circle"
         },
         "mode": "markers",
         "name": "",
         "scene": "scene",
         "showlegend": false,
         "type": "scatter3d",
         "x": [
          0.6829353082244195,
          -1.6861099503929373,
          -0.7339134780569624,
          -0.37105460303472027,
          -1.1587611756219982,
          0.7289372944032763,
          0.536480014739262,
          2.5792874619109467,
          -0.14122131103794072,
          -0.8497414842261168,
          -1.4714367593797557,
          -0.8471807538898927,
          -1.3535713060364294,
          0.48872714908375997,
          -1.533911984379284,
          0.1292410786879865,
          -1.4254504354456845,
          0.8216246987599608,
          -0.8208778967360387,
          2.8914856462776,
          0.6289799306088879,
          -0.4377036914553152,
          0.0918927310513967,
          -0.2719091125346116,
          1.4372071873058492,
          2.406168508574638,
          -0.1372790254578652,
          -0.0623638334471676,
          -0.8380026384732857,
          -0.047924568331945375,
          -0.8653822844538136,
          0.08785823755557384,
          0.7430506710285574,
          0.08149741234330594,
          -0.5684248901210734,
          0.25393631872242206,
          0.728537669704632,
          0.6904038548849549,
          -0.365185800683446,
          -1.4915438797473455,
          0.6056164298153373,
          -0.5664153572816817,
          0.1755163594776283,
          0.5549897954278363,
          0.6532062597335445,
          0.3715426253305187,
          -0.7013406295478063,
          0.9071430743956924,
          -0.10306917847533173,
          -0.9768419322415876,
          -2.462648843660176,
          1.02612250878563,
          0.6572246164826414,
          -1.8974524688813,
          -0.6516504929500442,
          1.8257153972486846,
          1.46788391709297,
          -1.3169854645471897,
          0.9545969256057244,
          0.717339866628686,
          0.9504642170099115,
          -0.473013193412483,
          -0.4880558789486311,
          -2.042158359294957,
          -0.26319105205526,
          -0.47598341251490306,
          0.6750903789133996,
          0.5964353524404419,
          0.8596202354589273,
          0.7231726757793204,
          0.24718697955089064,
          -1.692124284491335,
          0.30150980744099376,
          0.09630103577783791,
          0.31353754580022974,
          -1.102235530678292,
          -0.9265070286808041,
          -0.7827491205041611,
          1.0294828005433856,
          0.8935826224978298,
          -0.4137289615307077,
          -2.093412391690155,
          0.7821857594384205,
          -0.0869852610967284,
          1.074586198778999,
          0.261439580133389,
          2.2858038838466315,
          -0.39482035703629925,
          0.14874097751976215,
          1.0161045316775363,
          0.6843120812082732,
          -1.0563303202433485,
          -0.5395603234805381,
          -0.09476086439891968,
          -0.2755584002436954,
          -1.074748991082329,
          0.4283366762449012,
          -0.36808926947342485,
          1.3906331660993336,
          -0.4972195801355186,
          -1.042239392394087,
          -0.8093179526608636,
          -1.5054724221194653,
          -1.253234656187993,
          1.551707283112492,
          -0.5011335419339475,
          1.2984280568175266,
          1.7357645770805565,
          0.09506236175138018,
          1.1768235662796855,
          -0.03287405573745206,
          -0.6644693692159975,
          0.8327233329736888,
          0.23195109003157457,
          -0.9992050919616464,
          -0.26484300640662367,
          0.7080568474754436,
          -1.5089535806602605,
          -0.7750081736587249,
          0.5129416240782583,
          0.4367515358881341,
          -0.1789568370128739,
          0.6617877296621258,
          -0.7120523326399936,
          -2.1554348159413923,
          -0.18331813781462594,
          0.5462453897445797,
          0.5791465970959182,
          -0.8947735972665386,
          -0.6203210501256653,
          -0.7124294459188503,
          0.23096515711288568,
          0.20666888121141758,
          -0.8960068138053066,
          0.8494958494962476,
          0.9396332010320891,
          -1.8123234261340806,
          -1.0473968734173074,
          0.18550275372734537,
          -0.2993616389941147,
          -0.8929919514926278,
          -0.23053006474499488,
          2.670925301323691,
          -0.01856075444373782,
          -0.505066897612154,
          0.3837862724740043,
          -1.6876190912206204,
          -0.3890915093053112,
          -1.402727585735558,
          -0.700175284651799
         ],
         "y": [
          -0.7465221558972832,
          0.566076279021869,
          -0.9169458630400604,
          -1.5886085799415275,
          0.5606378667387655,
          1.2662978574720938,
          0.6781881272016057,
          1.953216709116292,
          -0.449363964475952,
          -0.3405461952363511,
          0.4615880379772638,
          1.081919126977871,
          -0.6194957016427164,
          -0.8494384717081658,
          -0.39731001055363696,
          -1.0004774301158292,
          -0.5934751517749279,
          0.3748596597800135,
          -0.4900520219286902,
          -1.0602113359005494,
          0.971518990312057,
          -1.0933796206728201,
          -0.9609467699274415,
          -0.34449438432569557,
          0.8468827031107242,
          -0.023551668909399297,
          0.0007517513441371359,
          1.0627722612721096,
          -1.0161823922641129,
          -0.7500348575512565,
          -0.7783115569603065,
          0.07979086556945034,
          -0.10803663327233641,
          -1.0320826982250395,
          0.4805939905630784,
          0.6512788411351569,
          -0.15388087536885747,
          0.5612186680011638,
          0.8668073910230268,
          1.4144459313462363,
          -1.1105550489921585,
          -2.42579000869987,
          -1.1567446286229877,
          2.7426035859883204,
          0.4281201752353604,
          0.27426694094590665,
          0.015356300968383417,
          -1.972615058019214,
          -0.3172140093793236,
          -0.6482640399118574,
          1.4432297912995644,
          0.849948728969069,
          -1.2026487501605012,
          1.472075824025376,
          -0.6529832880563291,
          -1.597671842183308,
          -1.5328284813890518,
          -0.2894805222664445,
          0.12687623171390155,
          -0.6209604243562886,
          0.42351347446576565,
          -0.9204832797243607,
          -1.2760090348837536,
          -1.3159172924900664,
          -1.5708731759475862,
          0.8313355267782361,
          -0.17452517780809768,
          -0.002699088329777021,
          -0.4787960105947488,
          -1.8139372675034664,
          -0.6791681772070765,
          0.7581649826136818,
          1.1965277592776051,
          0.08582278082000601,
          0.6323377954215658,
          0.10147801727599991,
          1.0759531483908586,
          1.2845685135732987,
          0.17907193174334882,
          1.3438531155024562,
          0.7451145888620168,
          -0.49040748650064575,
          1.4850821669548258,
          0.651060782579848,
          -0.2822163079661173,
          -0.3845704818336598,
          0.4913085343805404,
          -0.46143371925178184,
          -0.5298077380490367,
          -0.24332508615710946,
          0.6248766017069527,
          -1.3849998203007938,
          0.7283583017805402,
          0.6346123095960183,
          1.376594863474468,
          -0.590840665003377,
          -0.23786710004801698,
          -0.5451972745489708,
          -1.193667500496367,
          -1.3311280339031701,
          0.9910171027353438,
          0.18844465848522066,
          0.1661416330727306,
          1.7026008275122178,
          1.0310244535660895,
          -0.2132027691517283,
          1.8564488820957568,
          -1.5939366419374699,
          -1.3179703105612801,
          0.1325589466239551,
          -0.7874246903672912,
          -0.22423406133496573,
          1.1756558771994499,
          -1.6939849783951855,
          -0.5348453571624574,
          0.21163523878224857,
          -0.8093219589349264,
          1.0713455489515638,
          0.5578813286919762,
          -0.8777715086406056,
          -0.35086711388904146,
          -1.117553082011717,
          -0.8814664026745389,
          -0.6696981417896412,
          -0.6614197297958104,
          0.1353817210878584,
          -0.17183915765965924,
          -0.3235496541679643,
          1.0866054617572394,
          0.4431940006246136,
          -0.4358858036184246,
          0.6029046534218988,
          -0.9431423516972685,
          -2.108967139084513,
          0.27383162537531536,
          1.2173228456921934,
          -0.6106571820135899,
          -0.6571488500406992,
          0.16122389745693091,
          -1.332790016884787,
          -0.2778109058960647,
          0.43739518127211313,
          0.6760809134728444,
          -1.394699166999637,
          0.9625419577390562,
          -0.13479936812755963,
          -1.2190078627145329,
          2.549177598181418,
          -0.040494938083968875,
          -1.0407762927791921
         ],
         "z": [
          -43.93247312658402,
          -93.11325238288595,
          -147.88539912516467,
          -98.18189264888572,
          -22.569074445351255,
          169.51715324605357,
          183.01019972193708,
          329.33058664925835,
          7.38449176966553,
          6.872740034533294,
          -64.93999043689581,
          74.7464996771159,
          -113.08038351749543,
          -119.2696359660398,
          -150.6882360651572,
          -108.8322017524741,
          -149.1301276374279,
          19.219632830918314,
          -28.993691866510744,
          60.61527408170605,
          153.25862872004862,
          -165.59097650751556,
          -35.35438257639412,
          -90.42519647030758,
          123.3620076299177,
          139.39941573516097,
          -22.087998729893968,
          64.7651854108049,
          -147.54857155713086,
          -5.239771878149568,
          -121.7370715443834,
          -20.595481354287685,
          21.610338932297857,
          -136.47752980540395,
          17.412776565319795,
          99.75733988103025,
          45.846107831021826,
          141.62533419554063,
          59.3685407103625,
          41.084424236309204,
          -62.19476831017439,
          -245.75321799095184,
          -159.26631607105168,
          292.74201795093404,
          73.05585367445188,
          113.46761168029612,
          -22.749907378587793,
          -142.09559044009364,
          -44.024647557627205,
          -74.95264178863552,
          45.81713193417302,
          98.91132911898113,
          -76.80706321471952,
          52.81287394292458,
          -83.84113182878887,
          -60.166415307499285,
          -67.48417903968374,
          -114.06695988689201,
          39.69731867662515,
          13.150548207398398,
          125.90460461573292,
          -140.6001585363153,
          -136.97285044792577,
          -255.36007610818126,
          -134.93621490884678,
          74.8164924352908,
          45.1700849451077,
          105.14360263469254,
          109.14227573107578,
          -130.11841322807211,
          -21.7470488537284,
          -79.94380656385852,
          69.99830282185086,
          -44.73454955810837,
          86.47693112729928,
          -54.13867859175842,
          -9.982266475682323,
          70.70236010980969,
          89.35988549296925,
          194.3091774155293,
          85.2289960519213,
          -138.94740568322942,
          176.94753285091244,
          35.571436438229156,
          29.257365502790563,
          28.064599021268506,
          145.23490508965662,
          -138.78511317713935,
          -85.40699017345068,
          31.55215722401644,
          83.5866233667594,
          -231.81293093544022,
          -12.865377676591443,
          47.19055929180811,
          163.26880818200019,
          -88.60299912798698,
          -8.172085958064619,
          -56.29427330137045,
          29.265072378426453,
          -176.14467644720466,
          15.90246490572273,
          -57.5936563003679,
          -8.042044566829574,
          82.65970829646766,
          176.0971941523767,
          -119.85772922325047,
          259.78324100273204,
          -1.8354322825115617,
          -133.0289601841452,
          27.79272757405549,
          73.28516926276728,
          -72.08695613756595,
          183.25078235926517,
          -127.51632705605896,
          -105.52494630824295,
          -27.075047722688755,
          52.23202991488821,
          69.9083787297449,
          23.256839305147313,
          -23.440980250717143,
          -15.840460082092996,
          -103.27485735413818,
          -77.43302468960108,
          -104.7255985039408,
          -241.39246436195955,
          -37.554611616827145,
          25.45372753384346,
          16.729106960648963,
          70.3058734393206,
          -56.84971385630542,
          0.9557906965167433,
          59.708675005160224,
          -100.42531325302186,
          -251.35547616163015,
          86.030061895002,
          164.86550415859037,
          -201.7587303645428,
          -138.4804555582313,
          34.615393584618005,
          -106.19542012871139,
          -124.84530887626163,
          -12.231458404284055,
          268.12862680591303,
          -90.19402904346235,
          26.1149278073476,
          58.924548917512375,
          -247.45691433855654,
          220.0535423019393,
          -130.27554464604134,
          -63.60150073574381
         ]
        }
       ],
       "layout": {
        "autosize": true,
        "legend": {
         "tracegroupgap": 0
        },
        "margin": {
         "t": 60
        },
        "scene": {
         "aspectmode": "auto",
         "aspectratio": {
          "x": 1,
          "y": 1,
          "z": 1
         },
         "camera": {
          "center": {
           "x": 0,
           "y": 0,
           "z": 0
          },
          "eye": {
           "x": 1.543002104088927,
           "y": 1.5430021040889261,
           "z": 1.5430021040889268
          },
          "projection": {
           "type": "perspective"
          },
          "up": {
           "x": 0,
           "y": 0,
           "z": 1
          }
         },
         "domain": {
          "x": [
           0,
           1
          ],
          "y": [
           0,
           1
          ]
         },
         "xaxis": {
          "title": {
           "text": "feature1"
          },
          "type": "linear"
         },
         "yaxis": {
          "title": {
           "text": "feature2"
          },
          "type": "linear"
         },
         "zaxis": {
          "title": {
           "text": "target"
          },
          "type": "linear"
         }
        },
        "template": {
         "data": {
          "bar": [
           {
            "error_x": {
             "color": "#2a3f5f"
            },
            "error_y": {
             "color": "#2a3f5f"
            },
            "marker": {
             "line": {
              "color": "#E5ECF6",
              "width": 0.5
             },
             "pattern": {
              "fillmode": "overlay",
              "size": 10,
              "solidity": 0.2
             }
            },
            "type": "bar"
           }
          ],
          "barpolar": [
           {
            "marker": {
             "line": {
              "color": "#E5ECF6",
              "width": 0.5
             },
             "pattern": {
              "fillmode": "overlay",
              "size": 10,
              "solidity": 0.2
             }
            },
            "type": "barpolar"
           }
          ],
          "carpet": [
           {
            "aaxis": {
             "endlinecolor": "#2a3f5f",
             "gridcolor": "white",
             "linecolor": "white",
             "minorgridcolor": "white",
             "startlinecolor": "#2a3f5f"
            },
            "baxis": {
             "endlinecolor": "#2a3f5f",
             "gridcolor": "white",
             "linecolor": "white",
             "minorgridcolor": "white",
             "startlinecolor": "#2a3f5f"
            },
            "type": "carpet"
           }
          ],
          "choropleth": [
           {
            "colorbar": {
             "outlinewidth": 0,
             "ticks": ""
            },
            "type": "choropleth"
           }
          ],
          "contour": [
           {
            "colorbar": {
             "outlinewidth": 0,
             "ticks": ""
            },
            "colorscale": [
             [
              0,
              "#0d0887"
             ],
             [
              0.1111111111111111,
              "#46039f"
             ],
             [
              0.2222222222222222,
              "#7201a8"
             ],
             [
              0.3333333333333333,
              "#9c179e"
             ],
             [
              0.4444444444444444,
              "#bd3786"
             ],
             [
              0.5555555555555556,
              "#d8576b"
             ],
             [
              0.6666666666666666,
              "#ed7953"
             ],
             [
              0.7777777777777778,
              "#fb9f3a"
             ],
             [
              0.8888888888888888,
              "#fdca26"
             ],
             [
              1,
              "#f0f921"
             ]
            ],
            "type": "contour"
           }
          ],
          "contourcarpet": [
           {
            "colorbar": {
             "outlinewidth": 0,
             "ticks": ""
            },
            "type": "contourcarpet"
           }
          ],
          "heatmap": [
           {
            "colorbar": {
             "outlinewidth": 0,
             "ticks": ""
            },
            "colorscale": [
             [
              0,
              "#0d0887"
             ],
             [
              0.1111111111111111,
              "#46039f"
             ],
             [
              0.2222222222222222,
              "#7201a8"
             ],
             [
              0.3333333333333333,
              "#9c179e"
             ],
             [
              0.4444444444444444,
              "#bd3786"
             ],
             [
              0.5555555555555556,
              "#d8576b"
             ],
             [
              0.6666666666666666,
              "#ed7953"
             ],
             [
              0.7777777777777778,
              "#fb9f3a"
             ],
             [
              0.8888888888888888,
              "#fdca26"
             ],
             [
              1,
              "#f0f921"
             ]
            ],
            "type": "heatmap"
           }
          ],
          "heatmapgl": [
           {
            "colorbar": {
             "outlinewidth": 0,
             "ticks": ""
            },
            "colorscale": [
             [
              0,
              "#0d0887"
             ],
             [
              0.1111111111111111,
              "#46039f"
             ],
             [
              0.2222222222222222,
              "#7201a8"
             ],
             [
              0.3333333333333333,
              "#9c179e"
             ],
             [
              0.4444444444444444,
              "#bd3786"
             ],
             [
              0.5555555555555556,
              "#d8576b"
             ],
             [
              0.6666666666666666,
              "#ed7953"
             ],
             [
              0.7777777777777778,
              "#fb9f3a"
             ],
             [
              0.8888888888888888,
              "#fdca26"
             ],
             [
              1,
              "#f0f921"
             ]
            ],
            "type": "heatmapgl"
           }
          ],
          "histogram": [
           {
            "marker": {
             "pattern": {
              "fillmode": "overlay",
              "size": 10,
              "solidity": 0.2
             }
            },
            "type": "histogram"
           }
          ],
          "histogram2d": [
           {
            "colorbar": {
             "outlinewidth": 0,
             "ticks": ""
            },
            "colorscale": [
             [
              0,
              "#0d0887"
             ],
             [
              0.1111111111111111,
              "#46039f"
             ],
             [
              0.2222222222222222,
              "#7201a8"
             ],
             [
              0.3333333333333333,
              "#9c179e"
             ],
             [
              0.4444444444444444,
              "#bd3786"
             ],
             [
              0.5555555555555556,
              "#d8576b"
             ],
             [
              0.6666666666666666,
              "#ed7953"
             ],
             [
              0.7777777777777778,
              "#fb9f3a"
             ],
             [
              0.8888888888888888,
              "#fdca26"
             ],
             [
              1,
              "#f0f921"
             ]
            ],
            "type": "histogram2d"
           }
          ],
          "histogram2dcontour": [
           {
            "colorbar": {
             "outlinewidth": 0,
             "ticks": ""
            },
            "colorscale": [
             [
              0,
              "#0d0887"
             ],
             [
              0.1111111111111111,
              "#46039f"
             ],
             [
              0.2222222222222222,
              "#7201a8"
             ],
             [
              0.3333333333333333,
              "#9c179e"
             ],
             [
              0.4444444444444444,
              "#bd3786"
             ],
             [
              0.5555555555555556,
              "#d8576b"
             ],
             [
              0.6666666666666666,
              "#ed7953"
             ],
             [
              0.7777777777777778,
              "#fb9f3a"
             ],
             [
              0.8888888888888888,
              "#fdca26"
             ],
             [
              1,
              "#f0f921"
             ]
            ],
            "type": "histogram2dcontour"
           }
          ],
          "mesh3d": [
           {
            "colorbar": {
             "outlinewidth": 0,
             "ticks": ""
            },
            "type": "mesh3d"
           }
          ],
          "parcoords": [
           {
            "line": {
             "colorbar": {
              "outlinewidth": 0,
              "ticks": ""
             }
            },
            "type": "parcoords"
           }
          ],
          "pie": [
           {
            "automargin": true,
            "type": "pie"
           }
          ],
          "scatter": [
           {
            "fillpattern": {
             "fillmode": "overlay",
             "size": 10,
             "solidity": 0.2
            },
            "type": "scatter"
           }
          ],
          "scatter3d": [
           {
            "line": {
             "colorbar": {
              "outlinewidth": 0,
              "ticks": ""
             }
            },
            "marker": {
             "colorbar": {
              "outlinewidth": 0,
              "ticks": ""
             }
            },
            "type": "scatter3d"
           }
          ],
          "scattercarpet": [
           {
            "marker": {
             "colorbar": {
              "outlinewidth": 0,
              "ticks": ""
             }
            },
            "type": "scattercarpet"
           }
          ],
          "scattergeo": [
           {
            "marker": {
             "colorbar": {
              "outlinewidth": 0,
              "ticks": ""
             }
            },
            "type": "scattergeo"
           }
          ],
          "scattergl": [
           {
            "marker": {
             "colorbar": {
              "outlinewidth": 0,
              "ticks": ""
             }
            },
            "type": "scattergl"
           }
          ],
          "scattermapbox": [
           {
            "marker": {
             "colorbar": {
              "outlinewidth": 0,
              "ticks": ""
             }
            },
            "type": "scattermapbox"
           }
          ],
          "scatterpolar": [
           {
            "marker": {
             "colorbar": {
              "outlinewidth": 0,
              "ticks": ""
             }
            },
            "type": "scatterpolar"
           }
          ],
          "scatterpolargl": [
           {
            "marker": {
             "colorbar": {
              "outlinewidth": 0,
              "ticks": ""
             }
            },
            "type": "scatterpolargl"
           }
          ],
          "scatterternary": [
           {
            "marker": {
             "colorbar": {
              "outlinewidth": 0,
              "ticks": ""
             }
            },
            "type": "scatterternary"
           }
          ],
          "surface": [
           {
            "colorbar": {
             "outlinewidth": 0,
             "ticks": ""
            },
            "colorscale": [
             [
              0,
              "#0d0887"
             ],
             [
              0.1111111111111111,
              "#46039f"
             ],
             [
              0.2222222222222222,
              "#7201a8"
             ],
             [
              0.3333333333333333,
              "#9c179e"
             ],
             [
              0.4444444444444444,
              "#bd3786"
             ],
             [
              0.5555555555555556,
              "#d8576b"
             ],
             [
              0.6666666666666666,
              "#ed7953"
             ],
             [
              0.7777777777777778,
              "#fb9f3a"
             ],
             [
              0.8888888888888888,
              "#fdca26"
             ],
             [
              1,
              "#f0f921"
             ]
            ],
            "type": "surface"
           }
          ],
          "table": [
           {
            "cells": {
             "fill": {
              "color": "#EBF0F8"
             },
             "line": {
              "color": "white"
             }
            },
            "header": {
             "fill": {
              "color": "#C8D4E3"
             },
             "line": {
              "color": "white"
             }
            },
            "type": "table"
           }
          ]
         },
         "layout": {
          "annotationdefaults": {
           "arrowcolor": "#2a3f5f",
           "arrowhead": 0,
           "arrowwidth": 1
          },
          "autotypenumbers": "strict",
          "coloraxis": {
           "colorbar": {
            "outlinewidth": 0,
            "ticks": ""
           }
          },
          "colorscale": {
           "diverging": [
            [
             0,
             "#8e0152"
            ],
            [
             0.1,
             "#c51b7d"
            ],
            [
             0.2,
             "#de77ae"
            ],
            [
             0.3,
             "#f1b6da"
            ],
            [
             0.4,
             "#fde0ef"
            ],
            [
             0.5,
             "#f7f7f7"
            ],
            [
             0.6,
             "#e6f5d0"
            ],
            [
             0.7,
             "#b8e186"
            ],
            [
             0.8,
             "#7fbc41"
            ],
            [
             0.9,
             "#4d9221"
            ],
            [
             1,
             "#276419"
            ]
           ],
           "sequential": [
            [
             0,
             "#0d0887"
            ],
            [
             0.1111111111111111,
             "#46039f"
            ],
            [
             0.2222222222222222,
             "#7201a8"
            ],
            [
             0.3333333333333333,
             "#9c179e"
            ],
            [
             0.4444444444444444,
             "#bd3786"
            ],
            [
             0.5555555555555556,
             "#d8576b"
            ],
            [
             0.6666666666666666,
             "#ed7953"
            ],
            [
             0.7777777777777778,
             "#fb9f3a"
            ],
            [
             0.8888888888888888,
             "#fdca26"
            ],
            [
             1,
             "#f0f921"
            ]
           ],
           "sequentialminus": [
            [
             0,
             "#0d0887"
            ],
            [
             0.1111111111111111,
             "#46039f"
            ],
            [
             0.2222222222222222,
             "#7201a8"
            ],
            [
             0.3333333333333333,
             "#9c179e"
            ],
            [
             0.4444444444444444,
             "#bd3786"
            ],
            [
             0.5555555555555556,
             "#d8576b"
            ],
            [
             0.6666666666666666,
             "#ed7953"
            ],
            [
             0.7777777777777778,
             "#fb9f3a"
            ],
            [
             0.8888888888888888,
             "#fdca26"
            ],
            [
             1,
             "#f0f921"
            ]
           ]
          },
          "colorway": [
           "#636efa",
           "#EF553B",
           "#00cc96",
           "#ab63fa",
           "#FFA15A",
           "#19d3f3",
           "#FF6692",
           "#B6E880",
           "#FF97FF",
           "#FECB52"
          ],
          "font": {
           "color": "#2a3f5f"
          },
          "geo": {
           "bgcolor": "white",
           "lakecolor": "white",
           "landcolor": "#E5ECF6",
           "showlakes": true,
           "showland": true,
           "subunitcolor": "white"
          },
          "hoverlabel": {
           "align": "left"
          },
          "hovermode": "closest",
          "mapbox": {
           "style": "light"
          },
          "paper_bgcolor": "white",
          "plot_bgcolor": "#E5ECF6",
          "polar": {
           "angularaxis": {
            "gridcolor": "white",
            "linecolor": "white",
            "ticks": ""
           },
           "bgcolor": "#E5ECF6",
           "radialaxis": {
            "gridcolor": "white",
            "linecolor": "white",
            "ticks": ""
           }
          },
          "scene": {
           "xaxis": {
            "backgroundcolor": "#E5ECF6",
            "gridcolor": "white",
            "gridwidth": 2,
            "linecolor": "white",
            "showbackground": true,
            "ticks": "",
            "zerolinecolor": "white"
           },
           "yaxis": {
            "backgroundcolor": "#E5ECF6",
            "gridcolor": "white",
            "gridwidth": 2,
            "linecolor": "white",
            "showbackground": true,
            "ticks": "",
            "zerolinecolor": "white"
           },
           "zaxis": {
            "backgroundcolor": "#E5ECF6",
            "gridcolor": "white",
            "gridwidth": 2,
            "linecolor": "white",
            "showbackground": true,
            "ticks": "",
            "zerolinecolor": "white"
           }
          },
          "shapedefaults": {
           "line": {
            "color": "#2a3f5f"
           }
          },
          "ternary": {
           "aaxis": {
            "gridcolor": "white",
            "linecolor": "white",
            "ticks": ""
           },
           "baxis": {
            "gridcolor": "white",
            "linecolor": "white",
            "ticks": ""
           },
           "bgcolor": "#E5ECF6",
           "caxis": {
            "gridcolor": "white",
            "linecolor": "white",
            "ticks": ""
           }
          },
          "title": {
           "x": 0.05
          },
          "xaxis": {
           "automargin": true,
           "gridcolor": "white",
           "linecolor": "white",
           "ticks": "",
           "title": {
            "standoff": 15
           },
           "zerolinecolor": "white",
           "zerolinewidth": 2
          },
          "yaxis": {
           "automargin": true,
           "gridcolor": "white",
           "linecolor": "white",
           "ticks": "",
           "title": {
            "standoff": 15
           },
           "zerolinecolor": "white",
           "zerolinewidth": 2
          }
         }
        }
       }
      },
      "image/png": "[encoded data removed]",
      "text/html": [
       "<div>                            <div id=\"aaa8934b-8957-4732-a59f-5aac33a66749\" class=\"plotly-graph-div\" style=\"height:525px; width:100%;\"></div>            <script type=\"text/javascript\">                require([\"plotly\"], function(Plotly) {                    window.PLOTLYENV=window.PLOTLYENV || {};                                    if (document.getElementById(\"aaa8934b-8957-4732-a59f-5aac33a66749\")) {                    Plotly.newPlot(                        \"aaa8934b-8957-4732-a59f-5aac33a66749\",                        [{\"hovertemplate\":\"feature1=%{x}<br>feature2=%{y}<br>target=%{z}<extra></extra>\",\"legendgroup\":\"\",\"marker\":{\"color\":\"#636efa\",\"symbol\":\"circle\"},\"mode\":\"markers\",\"name\":\"\",\"scene\":\"scene\",\"showlegend\":false,\"x\":[0.6829353082244195,-1.6861099503929373,-0.7339134780569624,-0.37105460303472027,-1.1587611756219982,0.7289372944032763,0.536480014739262,2.5792874619109467,-0.14122131103794072,-0.8497414842261168,-1.4714367593797557,-0.8471807538898927,-1.3535713060364294,0.48872714908375997,-1.533911984379284,0.1292410786879865,-1.4254504354456845,0.8216246987599608,-0.8208778967360387,2.8914856462776,0.6289799306088879,-0.4377036914553152,0.0918927310513967,-0.2719091125346116,1.4372071873058492,2.406168508574638,-0.1372790254578652,-0.0623638334471676,-0.8380026384732857,-0.047924568331945375,-0.8653822844538136,0.08785823755557384,0.7430506710285574,0.08149741234330594,-0.5684248901210734,0.25393631872242206,0.728537669704632,0.6904038548849549,-0.365185800683446,-1.4915438797473455,0.6056164298153373,-0.5664153572816817,0.1755163594776283,0.5549897954278363,0.6532062597335445,0.3715426253305187,-0.7013406295478063,0.9071430743956924,-0.10306917847533173,-0.9768419322415876,-2.462648843660176,1.02612250878563,0.6572246164826414,-1.8974524688813,-0.6516504929500442,1.8257153972486846,1.46788391709297,-1.3169854645471897,0.9545969256057244,0.717339866628686,0.9504642170099115,-0.473013193412483,-0.4880558789486311,-2.042158359294957,-0.26319105205526,-0.47598341251490306,0.6750903789133996,0.5964353524404419,0.8596202354589273,0.7231726757793204,0.24718697955089064,-1.692124284491335,0.30150980744099376,0.09630103577783791,0.31353754580022974,-1.102235530678292,-0.9265070286808041,-0.7827491205041611,1.0294828005433856,0.8935826224978298,-0.4137289615307077,-2.093412391690155,0.7821857594384205,-0.0869852610967284,1.074586198778999,0.261439580133389,2.2858038838466315,-0.39482035703629925,0.14874097751976215,1.0161045316775363,0.6843120812082732,-1.0563303202433485,-0.5395603234805381,-0.09476086439891968,-0.2755584002436954,-1.074748991082329,0.4283366762449012,-0.36808926947342485,1.3906331660993336,-0.4972195801355186,-1.042239392394087,-0.8093179526608636,-1.5054724221194653,-1.253234656187993,1.551707283112492,-0.5011335419339475,1.2984280568175266,1.7357645770805565,0.09506236175138018,1.1768235662796855,-0.03287405573745206,-0.6644693692159975,0.8327233329736888,0.23195109003157457,-0.9992050919616464,-0.26484300640662367,0.7080568474754436,-1.5089535806602605,-0.7750081736587249,0.5129416240782583,0.4367515358881341,-0.1789568370128739,0.6617877296621258,-0.7120523326399936,-2.1554348159413923,-0.18331813781462594,0.5462453897445797,0.5791465970959182,-0.8947735972665386,-0.6203210501256653,-0.7124294459188503,0.23096515711288568,0.20666888121141758,-0.8960068138053066,0.8494958494962476,0.9396332010320891,-1.8123234261340806,-1.0473968734173074,0.18550275372734537,-0.2993616389941147,-0.8929919514926278,-0.23053006474499488,2.670925301323691,-0.01856075444373782,-0.505066897612154,0.3837862724740043,-1.6876190912206204,-0.3890915093053112,-1.402727585735558,-0.700175284651799],\"y\":[-0.7465221558972832,0.566076279021869,-0.9169458630400604,-1.5886085799415275,0.5606378667387655,1.2662978574720938,0.6781881272016057,1.953216709116292,-0.449363964475952,-0.3405461952363511,0.4615880379772638,1.081919126977871,-0.6194957016427164,-0.8494384717081658,-0.39731001055363696,-1.0004774301158292,-0.5934751517749279,0.3748596597800135,-0.4900520219286902,-1.0602113359005494,0.971518990312057,-1.0933796206728201,-0.9609467699274415,-0.34449438432569557,0.8468827031107242,-0.023551668909399297,0.0007517513441371359,1.0627722612721096,-1.0161823922641129,-0.7500348575512565,-0.7783115569603065,0.07979086556945034,-0.10803663327233641,-1.0320826982250395,0.4805939905630784,0.6512788411351569,-0.15388087536885747,0.5612186680011638,0.8668073910230268,1.4144459313462363,-1.1105550489921585,-2.42579000869987,-1.1567446286229877,2.7426035859883204,0.4281201752353604,0.27426694094590665,0.015356300968383417,-1.972615058019214,-0.3172140093793236,-0.6482640399118574,1.4432297912995644,0.849948728969069,-1.2026487501605012,1.472075824025376,-0.6529832880563291,-1.597671842183308,-1.5328284813890518,-0.2894805222664445,0.12687623171390155,-0.6209604243562886,0.42351347446576565,-0.9204832797243607,-1.2760090348837536,-1.3159172924900664,-1.5708731759475862,0.8313355267782361,-0.17452517780809768,-0.002699088329777021,-0.4787960105947488,-1.8139372675034664,-0.6791681772070765,0.7581649826136818,1.1965277592776051,0.08582278082000601,0.6323377954215658,0.10147801727599991,1.0759531483908586,1.2845685135732987,0.17907193174334882,1.3438531155024562,0.7451145888620168,-0.49040748650064575,1.4850821669548258,0.651060782579848,-0.2822163079661173,-0.3845704818336598,0.4913085343805404,-0.46143371925178184,-0.5298077380490367,-0.24332508615710946,0.6248766017069527,-1.3849998203007938,0.7283583017805402,0.6346123095960183,1.376594863474468,-0.590840665003377,-0.23786710004801698,-0.5451972745489708,-1.193667500496367,-1.3311280339031701,0.9910171027353438,0.18844465848522066,0.1661416330727306,1.7026008275122178,1.0310244535660895,-0.2132027691517283,1.8564488820957568,-1.5939366419374699,-1.3179703105612801,0.1325589466239551,-0.7874246903672912,-0.22423406133496573,1.1756558771994499,-1.6939849783951855,-0.5348453571624574,0.21163523878224857,-0.8093219589349264,1.0713455489515638,0.5578813286919762,-0.8777715086406056,-0.35086711388904146,-1.117553082011717,-0.8814664026745389,-0.6696981417896412,-0.6614197297958104,0.1353817210878584,-0.17183915765965924,-0.3235496541679643,1.0866054617572394,0.4431940006246136,-0.4358858036184246,0.6029046534218988,-0.9431423516972685,-2.108967139084513,0.27383162537531536,1.2173228456921934,-0.6106571820135899,-0.6571488500406992,0.16122389745693091,-1.332790016884787,-0.2778109058960647,0.43739518127211313,0.6760809134728444,-1.394699166999637,0.9625419577390562,-0.13479936812755963,-1.2190078627145329,2.549177598181418,-0.040494938083968875,-1.0407762927791921],\"z\":[-43.93247312658402,-93.11325238288595,-147.88539912516467,-98.18189264888572,-22.569074445351255,169.51715324605357,183.01019972193708,329.33058664925835,7.38449176966553,6.872740034533294,-64.93999043689581,74.7464996771159,-113.08038351749543,-119.2696359660398,-150.6882360651572,-108.8322017524741,-149.1301276374279,19.219632830918314,-28.993691866510744,60.61527408170605,153.25862872004862,-165.59097650751556,-35.35438257639412,-90.42519647030758,123.3620076299177,139.39941573516097,-22.087998729893968,64.7651854108049,-147.54857155713086,-5.239771878149568,-121.7370715443834,-20.595481354287685,21.610338932297857,-136.47752980540395,17.412776565319795,99.75733988103025,45.846107831021826,141.62533419554063,59.3685407103625,41.084424236309204,-62.19476831017439,-245.75321799095184,-159.26631607105168,292.74201795093404,73.05585367445188,113.46761168029612,-22.749907378587793,-142.09559044009364,-44.024647557627205,-74.95264178863552,45.81713193417302,98.91132911898113,-76.80706321471952,52.81287394292458,-83.84113182878887,-60.166415307499285,-67.48417903968374,-114.06695988689201,39.69731867662515,13.150548207398398,125.90460461573292,-140.6001585363153,-136.97285044792577,-255.36007610818126,-134.93621490884678,74.8164924352908,45.1700849451077,105.14360263469254,109.14227573107578,-130.11841322807211,-21.7470488537284,-79.94380656385852,69.99830282185086,-44.73454955810837,86.47693112729928,-54.13867859175842,-9.982266475682323,70.70236010980969,89.35988549296925,194.3091774155293,85.2289960519213,-138.94740568322942,176.94753285091244,35.571436438229156,29.257365502790563,28.064599021268506,145.23490508965662,-138.78511317713935,-85.40699017345068,31.55215722401644,83.5866233667594,-231.81293093544022,-12.865377676591443,47.19055929180811,163.26880818200019,-88.60299912798698,-8.172085958064619,-56.29427330137045,29.265072378426453,-176.14467644720466,15.90246490572273,-57.5936563003679,-8.042044566829574,82.65970829646766,176.0971941523767,-119.85772922325047,259.78324100273204,-1.8354322825115617,-133.0289601841452,27.79272757405549,73.28516926276728,-72.08695613756595,183.25078235926517,-127.51632705605896,-105.52494630824295,-27.075047722688755,52.23202991488821,69.9083787297449,23.256839305147313,-23.440980250717143,-15.840460082092996,-103.27485735413818,-77.43302468960108,-104.7255985039408,-241.39246436195955,-37.554611616827145,25.45372753384346,16.729106960648963,70.3058734393206,-56.84971385630542,0.9557906965167433,59.708675005160224,-100.42531325302186,-251.35547616163015,86.030061895002,164.86550415859037,-201.7587303645428,-138.4804555582313,34.615393584618005,-106.19542012871139,-124.84530887626163,-12.231458404284055,268.12862680591303,-90.19402904346235,26.1149278073476,58.924548917512375,-247.45691433855654,220.0535423019393,-130.27554464604134,-63.60150073574381],\"type\":\"scatter3d\"}],                        {\"template\":{\"data\":{\"histogram2dcontour\":[{\"type\":\"histogram2dcontour\",\"colorbar\":{\"outlinewidth\":0,\"ticks\":\"\"},\"colorscale\":[[0.0,\"#0d0887\"],[0.1111111111111111,\"#46039f\"],[0.2222222222222222,\"#7201a8\"],[0.3333333333333333,\"#9c179e\"],[0.4444444444444444,\"#bd3786\"],[0.5555555555555556,\"#d8576b\"],[0.6666666666666666,\"#ed7953\"],[0.7777777777777778,\"#fb9f3a\"],[0.8888888888888888,\"#fdca26\"],[1.0,\"#f0f921\"]]}],\"choropleth\":[{\"type\":\"choropleth\",\"colorbar\":{\"outlinewidth\":0,\"ticks\":\"\"}}],\"histogram2d\":[{\"type\":\"histogram2d\",\"colorbar\":{\"outlinewidth\":0,\"ticks\":\"\"},\"colorscale\":[[0.0,\"#0d0887\"],[0.1111111111111111,\"#46039f\"],[0.2222222222222222,\"#7201a8\"],[0.3333333333333333,\"#9c179e\"],[0.4444444444444444,\"#bd3786\"],[0.5555555555555556,\"#d8576b\"],[0.6666666666666666,\"#ed7953\"],[0.7777777777777778,\"#fb9f3a\"],[0.8888888888888888,\"#fdca26\"],[1.0,\"#f0f921\"]]}],\"heatmap\":[{\"type\":\"heatmap\",\"colorbar\":{\"outlinewidth\":0,\"ticks\":\"\"},\"colorscale\":[[0.0,\"#0d0887\"],[0.1111111111111111,\"#46039f\"],[0.2222222222222222,\"#7201a8\"],[0.3333333333333333,\"#9c179e\"],[0.4444444444444444,\"#bd3786\"],[0.5555555555555556,\"#d8576b\"],[0.6666666666666666,\"#ed7953\"],[0.7777777777777778,\"#fb9f3a\"],[0.8888888888888888,\"#fdca26\"],[1.0,\"#f0f921\"]]}],\"heatmapgl\":[{\"type\":\"heatmapgl\",\"colorbar\":{\"outlinewidth\":0,\"ticks\":\"\"},\"colorscale\":[[0.0,\"#0d0887\"],[0.1111111111111111,\"#46039f\"],[0.2222222222222222,\"#7201a8\"],[0.3333333333333333,\"#9c179e\"],[0.4444444444444444,\"#bd3786\"],[0.5555555555555556,\"#d8576b\"],[0.6666666666666666,\"#ed7953\"],[0.7777777777777778,\"#fb9f3a\"],[0.8888888888888888,\"#fdca26\"],[1.0,\"#f0f921\"]]}],\"contourcarpet\":[{\"type\":\"contourcarpet\",\"colorbar\":{\"outlinewidth\":0,\"ticks\":\"\"}}],\"contour\":[{\"type\":\"contour\",\"colorbar\":{\"outlinewidth\":0,\"ticks\":\"\"},\"colorscale\":[[0.0,\"#0d0887\"],[0.1111111111111111,\"#46039f\"],[0.2222222222222222,\"#7201a8\"],[0.3333333333333333,\"#9c179e\"],[0.4444444444444444,\"#bd3786\"],[0.5555555555555556,\"#d8576b\"],[0.6666666666666666,\"#ed7953\"],[0.7777777777777778,\"#fb9f3a\"],[0.8888888888888888,\"#fdca26\"],[1.0,\"#f0f921\"]]}],\"surface\":[{\"type\":\"surface\",\"colorbar\":{\"outlinewidth\":0,\"ticks\":\"\"},\"colorscale\":[[0.0,\"#0d0887\"],[0.1111111111111111,\"#46039f\"],[0.2222222222222222,\"#7201a8\"],[0.3333333333333333,\"#9c179e\"],[0.4444444444444444,\"#bd3786\"],[0.5555555555555556,\"#d8576b\"],[0.6666666666666666,\"#ed7953\"],[0.7777777777777778,\"#fb9f3a\"],[0.8888888888888888,\"#fdca26\"],[1.0,\"#f0f921\"]]}],\"mesh3d\":[{\"type\":\"mesh3d\",\"colorbar\":{\"outlinewidth\":0,\"ticks\":\"\"}}],\"scatter\":[{\"fillpattern\":{\"fillmode\":\"overlay\",\"size\":10,\"solidity\":0.2},\"type\":\"scatter\"}],\"parcoords\":[{\"type\":\"parcoords\",\"line\":{\"colorbar\":{\"outlinewidth\":0,\"ticks\":\"\"}}}],\"scatterpolargl\":[{\"type\":\"scatterpolargl\",\"marker\":{\"colorbar\":{\"outlinewidth\":0,\"ticks\":\"\"}}}],\"bar\":[{\"error_x\":{\"color\":\"#2a3f5f\"},\"error_y\":{\"color\":\"#2a3f5f\"},\"marker\":{\"line\":{\"color\":\"#E5ECF6\",\"width\":0.5},\"pattern\":{\"fillmode\":\"overlay\",\"size\":10,\"solidity\":0.2}},\"type\":\"bar\"}],\"scattergeo\":[{\"type\":\"scattergeo\",\"marker\":{\"colorbar\":{\"outlinewidth\":0,\"ticks\":\"\"}}}],\"scatterpolar\":[{\"type\":\"scatterpolar\",\"marker\":{\"colorbar\":{\"outlinewidth\":0,\"ticks\":\"\"}}}],\"histogram\":[{\"marker\":{\"pattern\":{\"fillmode\":\"overlay\",\"size\":10,\"solidity\":0.2}},\"type\":\"histogram\"}],\"scattergl\":[{\"type\":\"scattergl\",\"marker\":{\"colorbar\":{\"outlinewidth\":0,\"ticks\":\"\"}}}],\"scatter3d\":[{\"type\":\"scatter3d\",\"line\":{\"colorbar\":{\"outlinewidth\":0,\"ticks\":\"\"}},\"marker\":{\"colorbar\":{\"outlinewidth\":0,\"ticks\":\"\"}}}],\"scattermapbox\":[{\"type\":\"scattermapbox\",\"marker\":{\"colorbar\":{\"outlinewidth\":0,\"ticks\":\"\"}}}],\"scatterternary\":[{\"type\":\"scatterternary\",\"marker\":{\"colorbar\":{\"outlinewidth\":0,\"ticks\":\"\"}}}],\"scattercarpet\":[{\"type\":\"scattercarpet\",\"marker\":{\"colorbar\":{\"outlinewidth\":0,\"ticks\":\"\"}}}],\"carpet\":[{\"aaxis\":{\"endlinecolor\":\"#2a3f5f\",\"gridcolor\":\"white\",\"linecolor\":\"white\",\"minorgridcolor\":\"white\",\"startlinecolor\":\"#2a3f5f\"},\"baxis\":{\"endlinecolor\":\"#2a3f5f\",\"gridcolor\":\"white\",\"linecolor\":\"white\",\"minorgridcolor\":\"white\",\"startlinecolor\":\"#2a3f5f\"},\"type\":\"carpet\"}],\"table\":[{\"cells\":{\"fill\":{\"color\":\"#EBF0F8\"},\"line\":{\"color\":\"white\"}},\"header\":{\"fill\":{\"color\":\"#C8D4E3\"},\"line\":{\"color\":\"white\"}},\"type\":\"table\"}],\"barpolar\":[{\"marker\":{\"line\":{\"color\":\"#E5ECF6\",\"width\":0.5},\"pattern\":{\"fillmode\":\"overlay\",\"size\":10,\"solidity\":0.2}},\"type\":\"barpolar\"}],\"pie\":[{\"automargin\":true,\"type\":\"pie\"}]},\"layout\":{\"autotypenumbers\":\"strict\",\"colorway\":[\"#636efa\",\"#EF553B\",\"#00cc96\",\"#ab63fa\",\"#FFA15A\",\"#19d3f3\",\"#FF6692\",\"#B6E880\",\"#FF97FF\",\"#FECB52\"],\"font\":{\"color\":\"#2a3f5f\"},\"hovermode\":\"closest\",\"hoverlabel\":{\"align\":\"left\"},\"paper_bgcolor\":\"white\",\"plot_bgcolor\":\"#E5ECF6\",\"polar\":{\"bgcolor\":\"#E5ECF6\",\"angularaxis\":{\"gridcolor\":\"white\",\"linecolor\":\"white\",\"ticks\":\"\"},\"radialaxis\":{\"gridcolor\":\"white\",\"linecolor\":\"white\",\"ticks\":\"\"}},\"ternary\":{\"bgcolor\":\"#E5ECF6\",\"aaxis\":{\"gridcolor\":\"white\",\"linecolor\":\"white\",\"ticks\":\"\"},\"baxis\":{\"gridcolor\":\"white\",\"linecolor\":\"white\",\"ticks\":\"\"},\"caxis\":{\"gridcolor\":\"white\",\"linecolor\":\"white\",\"ticks\":\"\"}},\"coloraxis\":{\"colorbar\":{\"outlinewidth\":0,\"ticks\":\"\"}},\"colorscale\":{\"sequential\":[[0.0,\"#0d0887\"],[0.1111111111111111,\"#46039f\"],[0.2222222222222222,\"#7201a8\"],[0.3333333333333333,\"#9c179e\"],[0.4444444444444444,\"#bd3786\"],[0.5555555555555556,\"#d8576b\"],[0.6666666666666666,\"#ed7953\"],[0.7777777777777778,\"#fb9f3a\"],[0.8888888888888888,\"#fdca26\"],[1.0,\"#f0f921\"]],\"sequentialminus\":[[0.0,\"#0d0887\"],[0.1111111111111111,\"#46039f\"],[0.2222222222222222,\"#7201a8\"],[0.3333333333333333,\"#9c179e\"],[0.4444444444444444,\"#bd3786\"],[0.5555555555555556,\"#d8576b\"],[0.6666666666666666,\"#ed7953\"],[0.7777777777777778,\"#fb9f3a\"],[0.8888888888888888,\"#fdca26\"],[1.0,\"#f0f921\"]],\"diverging\":[[0,\"#8e0152\"],[0.1,\"#c51b7d\"],[0.2,\"#de77ae\"],[0.3,\"#f1b6da\"],[0.4,\"#fde0ef\"],[0.5,\"#f7f7f7\"],[0.6,\"#e6f5d0\"],[0.7,\"#b8e186\"],[0.8,\"#7fbc41\"],[0.9,\"#4d9221\"],[1,\"#276419\"]]},\"xaxis\":{\"gridcolor\":\"white\",\"linecolor\":\"white\",\"ticks\":\"\",\"title\":{\"standoff\":15},\"zerolinecolor\":\"white\",\"automargin\":true,\"zerolinewidth\":2},\"yaxis\":{\"gridcolor\":\"white\",\"linecolor\":\"white\",\"ticks\":\"\",\"title\":{\"standoff\":15},\"zerolinecolor\":\"white\",\"automargin\":true,\"zerolinewidth\":2},\"scene\":{\"xaxis\":{\"backgroundcolor\":\"#E5ECF6\",\"gridcolor\":\"white\",\"linecolor\":\"white\",\"showbackground\":true,\"ticks\":\"\",\"zerolinecolor\":\"white\",\"gridwidth\":2},\"yaxis\":{\"backgroundcolor\":\"#E5ECF6\",\"gridcolor\":\"white\",\"linecolor\":\"white\",\"showbackground\":true,\"ticks\":\"\",\"zerolinecolor\":\"white\",\"gridwidth\":2},\"zaxis\":{\"backgroundcolor\":\"#E5ECF6\",\"gridcolor\":\"white\",\"linecolor\":\"white\",\"showbackground\":true,\"ticks\":\"\",\"zerolinecolor\":\"white\",\"gridwidth\":2}},\"shapedefaults\":{\"line\":{\"color\":\"#2a3f5f\"}},\"annotationdefaults\":{\"arrowcolor\":\"#2a3f5f\",\"arrowhead\":0,\"arrowwidth\":1},\"geo\":{\"bgcolor\":\"white\",\"landcolor\":\"#E5ECF6\",\"subunitcolor\":\"white\",\"showland\":true,\"showlakes\":true,\"lakecolor\":\"white\"},\"title\":{\"x\":0.05},\"mapbox\":{\"style\":\"light\"}}},\"scene\":{\"domain\":{\"x\":[0.0,1.0],\"y\":[0.0,1.0]},\"xaxis\":{\"title\":{\"text\":\"feature1\"}},\"yaxis\":{\"title\":{\"text\":\"feature2\"}},\"zaxis\":{\"title\":{\"text\":\"target\"}}},\"legend\":{\"tracegroupgap\":0},\"margin\":{\"t\":60}},                        {\"responsive\": true}                    ).then(function(){\n",
       "                            \n",
       "var gd = document.getElementById('aaa8934b-8957-4732-a59f-5aac33a66749');\n",
       "var x = new MutationObserver(function (mutations, observer) {{\n",
       "        var display = window.getComputedStyle(gd).display;\n",
       "        if (!display || display === 'none') {{\n",
       "            console.log([gd, 'removed!']);\n",
       "            Plotly.purge(gd);\n",
       "            observer.disconnect();\n",
       "        }}\n",
       "}});\n",
       "\n",
       "// Listen for the removal of the full notebook cells\n",
       "var notebookContainer = gd.closest('#notebook-container');\n",
       "if (notebookContainer) {{\n",
       "    x.observe(notebookContainer, {childList: true});\n",
       "}}\n",
       "\n",
       "// Listen for the clearing of the current output cell\n",
       "var outputEl = gd.closest('.output');\n",
       "if (outputEl) {{\n",
       "    x.observe(outputEl, {childList: true});\n",
       "}}\n",
       "\n",
       "                        })                };                });            </script>        </div>"
      ]
     },
     "metadata": {},
     "output_type": "display_data"
    }
   ],
   "source": [
    "import plotly.express as px\n",
    "px.scatter_3d(df,x=\"feature1\",y=\"feature2\",z=\"target\")"
   ]
  },
  {
   "cell_type": "code",
   "execution_count": 91,
   "id": "1afe54e4-b4f2-4923-a40b-7c1462431bd4",
   "metadata": {},
   "outputs": [],
   "source": [
    "from sklearn.model_selection import train_test_split\n",
    "x_train,x_test,y_train,y_test= train_test_split(x,y,test_size=0.15,random_state=3)"
   ]
  },
  {
   "cell_type": "code",
   "execution_count": 95,
   "id": "da2e3f51-408e-415d-b841-bd51307d8ce2",
   "metadata": {},
   "outputs": [
    {
     "data": {
      "text/plain": [
       "(127, 2)"
      ]
     },
     "execution_count": 95,
     "metadata": {},
     "output_type": "execute_result"
    }
   ],
   "source": [
    "x_train.shape"
   ]
  },
  {
   "cell_type": "code",
   "execution_count": 99,
   "id": "9b1b49ae-b68d-4236-8ae0-94d5d11f3a28",
   "metadata": {},
   "outputs": [
    {
     "data": {
      "text/plain": [
       "(127,)"
      ]
     },
     "execution_count": 99,
     "metadata": {},
     "output_type": "execute_result"
    }
   ],
   "source": [
    "y_train.shape"
   ]
  },
  {
   "cell_type": "code",
   "execution_count": 103,
   "id": "ac80e977-8eda-4d62-8606-88169fc64055",
   "metadata": {},
   "outputs": [
    {
     "data": {
      "text/plain": [
       "(23, 2)"
      ]
     },
     "execution_count": 103,
     "metadata": {},
     "output_type": "execute_result"
    }
   ],
   "source": [
    "x_test.shape"
   ]
  },
  {
   "cell_type": "code",
   "execution_count": 105,
   "id": "3d63d349-3561-4f48-b483-74126b65d34e",
   "metadata": {},
   "outputs": [
    {
     "data": {
      "text/plain": [
       "(23,)"
      ]
     },
     "execution_count": 105,
     "metadata": {},
     "output_type": "execute_result"
    }
   ],
   "source": [
    "y_test.shape"
   ]
  },
  {
   "cell_type": "markdown",
   "id": "24a5717c-5c33-4242-b2a4-1a5f3bd7a9af",
   "metadata": {},
   "source": [
    "# model"
   ]
  },
  {
   "cell_type": "code",
   "execution_count": 111,
   "id": "1d884309-bb7b-4fe0-b215-f5a48cb50b9f",
   "metadata": {},
   "outputs": [],
   "source": [
    "model1=LinearRegression()"
   ]
  },
  {
   "cell_type": "code",
   "execution_count": 115,
   "id": "f794cd5f-ecc8-4431-8e21-2f8cc2d8f57e",
   "metadata": {},
   "outputs": [
    {
     "data": {
      "text/html": [
       "<style>#sk-container-id-3 {color: black;background-color: white;}#sk-container-id-3 pre{padding: 0;}#sk-container-id-3 div.sk-toggleable {background-color: white;}#sk-container-id-3 label.sk-toggleable__label {cursor: pointer;display: block;width: 100%;margin-bottom: 0;padding: 0.3em;box-sizing: border-box;text-align: center;}#sk-container-id-3 label.sk-toggleable__label-arrow:before {content: \"▸\";float: left;margin-right: 0.25em;color: #696969;}#sk-container-id-3 label.sk-toggleable__label-arrow:hover:before {color: black;}#sk-container-id-3 div.sk-estimator:hover label.sk-toggleable__label-arrow:before {color: black;}#sk-container-id-3 div.sk-toggleable__content {max-height: 0;max-width: 0;overflow: hidden;text-align: left;background-color: #f0f8ff;}#sk-container-id-3 div.sk-toggleable__content pre {margin: 0.2em;color: black;border-radius: 0.25em;background-color: #f0f8ff;}#sk-container-id-3 input.sk-toggleable__control:checked~div.sk-toggleable__content {max-height: 200px;max-width: 100%;overflow: auto;}#sk-container-id-3 input.sk-toggleable__control:checked~label.sk-toggleable__label-arrow:before {content: \"▾\";}#sk-container-id-3 div.sk-estimator input.sk-toggleable__control:checked~label.sk-toggleable__label {background-color: #d4ebff;}#sk-container-id-3 div.sk-label input.sk-toggleable__control:checked~label.sk-toggleable__label {background-color: #d4ebff;}#sk-container-id-3 input.sk-hidden--visually {border: 0;clip: rect(1px 1px 1px 1px);clip: rect(1px, 1px, 1px, 1px);height: 1px;margin: -1px;overflow: hidden;padding: 0;position: absolute;width: 1px;}#sk-container-id-3 div.sk-estimator {font-family: monospace;background-color: #f0f8ff;border: 1px dotted black;border-radius: 0.25em;box-sizing: border-box;margin-bottom: 0.5em;}#sk-container-id-3 div.sk-estimator:hover {background-color: #d4ebff;}#sk-container-id-3 div.sk-parallel-item::after {content: \"\";width: 100%;border-bottom: 1px solid gray;flex-grow: 1;}#sk-container-id-3 div.sk-label:hover label.sk-toggleable__label {background-color: #d4ebff;}#sk-container-id-3 div.sk-serial::before {content: \"\";position: absolute;border-left: 1px solid gray;box-sizing: border-box;top: 0;bottom: 0;left: 50%;z-index: 0;}#sk-container-id-3 div.sk-serial {display: flex;flex-direction: column;align-items: center;background-color: white;padding-right: 0.2em;padding-left: 0.2em;position: relative;}#sk-container-id-3 div.sk-item {position: relative;z-index: 1;}#sk-container-id-3 div.sk-parallel {display: flex;align-items: stretch;justify-content: center;background-color: white;position: relative;}#sk-container-id-3 div.sk-item::before, #sk-container-id-3 div.sk-parallel-item::before {content: \"\";position: absolute;border-left: 1px solid gray;box-sizing: border-box;top: 0;bottom: 0;left: 50%;z-index: -1;}#sk-container-id-3 div.sk-parallel-item {display: flex;flex-direction: column;z-index: 1;position: relative;background-color: white;}#sk-container-id-3 div.sk-parallel-item:first-child::after {align-self: flex-end;width: 50%;}#sk-container-id-3 div.sk-parallel-item:last-child::after {align-self: flex-start;width: 50%;}#sk-container-id-3 div.sk-parallel-item:only-child::after {width: 0;}#sk-container-id-3 div.sk-dashed-wrapped {border: 1px dashed gray;margin: 0 0.4em 0.5em 0.4em;box-sizing: border-box;padding-bottom: 0.4em;background-color: white;}#sk-container-id-3 div.sk-label label {font-family: monospace;font-weight: bold;display: inline-block;line-height: 1.2em;}#sk-container-id-3 div.sk-label-container {text-align: center;}#sk-container-id-3 div.sk-container {/* jupyter's `normalize.less` sets `[hidden] { display: none; }` but bootstrap.min.css set `[hidden] { display: none !important; }` so we also need the `!important` here to be able to override the default hidden behavior on the sphinx rendered scikit-learn.org. See: https://github.com/scikit-learn/scikit-learn/issues/21755 */display: inline-block !important;position: relative;}#sk-container-id-3 div.sk-text-repr-fallback {display: none;}</style><div id=\"sk-container-id-3\" class=\"sk-top-container\"><div class=\"sk-text-repr-fallback\"><pre>LinearRegression()</pre><b>In a Jupyter environment, please rerun this cell to show the HTML representation or trust the notebook. <br />On GitHub, the HTML representation is unable to render, please try loading this page with nbviewer.org.</b></div><div class=\"sk-container\" hidden><div class=\"sk-item\"><div class=\"sk-estimator sk-toggleable\"><input class=\"sk-toggleable__control sk-hidden--visually\" id=\"sk-estimator-id-3\" type=\"checkbox\" checked><label for=\"sk-estimator-id-3\" class=\"sk-toggleable__label sk-toggleable__label-arrow\">LinearRegression</label><div class=\"sk-toggleable__content\"><pre>LinearRegression()</pre></div></div></div></div></div>"
      ],
      "text/plain": [
       "LinearRegression()"
      ]
     },
     "execution_count": 115,
     "metadata": {},
     "output_type": "execute_result"
    }
   ],
   "source": [
    "model1.fit(x_train,y_train)"
   ]
  },
  {
   "cell_type": "code",
   "execution_count": 119,
   "id": "ed38478f-9a25-400e-9461-2d9dc1fa8778",
   "metadata": {},
   "outputs": [
    {
     "data": {
      "text/plain": [
       "0.8866464376840647"
      ]
     },
     "execution_count": 119,
     "metadata": {},
     "output_type": "execute_result"
    }
   ],
   "source": [
    "model1.score(x_train,y_train)"
   ]
  },
  {
   "cell_type": "code",
   "execution_count": 125,
   "id": "310130a6-6ba1-4206-9b75-9d889e68c5a1",
   "metadata": {},
   "outputs": [],
   "source": [
    "y_pred=model1.predict(x_test)"
   ]
  },
  {
   "cell_type": "code",
   "execution_count": 129,
   "id": "51d634e1-c50c-4c47-880b-855a83e992ed",
   "metadata": {},
   "outputs": [
    {
     "data": {
      "text/plain": [
       "0.8618667425993624"
      ]
     },
     "execution_count": 129,
     "metadata": {},
     "output_type": "execute_result"
    }
   ],
   "source": [
    "r2_score(y_test,y_pred)"
   ]
  },
  {
   "cell_type": "markdown",
   "id": "d2b2a5d9-ecd6-4bfe-b25d-3c627e168406",
   "metadata": {},
   "source": [
    "y_test is act\n"
   ]
  },
  {
   "cell_type": "code",
   "execution_count": null,
   "id": "a00d9a7e-dcd3-423e-aea5-2101fec5f437",
   "metadata": {},
   "outputs": [],
   "source": []
  }
 ],
 "metadata": {
  "kernelspec": {
   "display_name": "Python 3 (ipykernel)",
   "language": "python",
   "name": "python3"
  },
  "language_info": {
   "codemirror_mode": {
    "name": "ipython",
    "version": 3
   },
   "file_extension": ".py",
   "mimetype": "text/x-python",
   "name": "python",
   "nbconvert_exporter": "python",
   "pygments_lexer": "ipython3",
   "version": "3.11.7"
  }
 },
 "nbformat": 4,
 "nbformat_minor": 5
}
